{
 "cells": [
  {
   "cell_type": "markdown",
   "metadata": {},
   "source": [
    "# Imports "
   ]
  },
  {
   "cell_type": "code",
   "execution_count": 1,
   "metadata": {},
   "outputs": [],
   "source": [
    "import pandas as pd\n",
    "import numpy as np\n",
    "import matplotlib.pyplot as plt\n",
    "import seaborn as sns\n",
    "from sklearn.model_selection import train_test_split\n",
    "from sklearn.model_selection import cross_val_score\n",
    "from sklearn.model_selection import RepeatedKFold\n",
    "from xgboost import XGBRegressor\n",
    "from numpy import absolute\n",
    "from sklearn.ensemble import GradientBoostingRegressor\n",
    "import warnings\n",
    "from sklearn.model_selection import RandomizedSearchCV\n",
    "from sklearn.metrics import r2_score,make_scorer\n",
    "warnings.filterwarnings(\"ignore\")\n",
    "\n",
    "from sklearn.linear_model import ElasticNet, Lasso,  BayesianRidge, LassoLarsIC\n",
    "from sklearn.ensemble import RandomForestRegressor,  GradientBoostingRegressor\n",
    "from sklearn.kernel_ridge import KernelRidge\n",
    "from sklearn.pipeline import make_pipeline\n",
    "from sklearn.preprocessing import RobustScaler,StandardScaler,OneHotEncoder\n",
    "from sklearn.base import BaseEstimator, TransformerMixin, RegressorMixin, clone\n",
    "from sklearn.model_selection import KFold, cross_val_score, train_test_split\n",
    "from sklearn.metrics import mean_squared_error,auc\n",
    "import lightgbm as lgb\n",
    "from sklearn import preprocessing"
   ]
  },
  {
   "cell_type": "markdown",
   "metadata": {},
   "source": [
    "# Utility Functions"
   ]
  },
  {
   "cell_type": "code",
   "execution_count": 2,
   "metadata": {},
   "outputs": [],
   "source": [
    "def countplot(data,param,fig_nu=False,ax=False):\n",
    "    plt.rcParams[\"figure.figsize\"] = (10,5)\n",
    "    \n",
    "    if fig_nu:\n",
    "        return sns.countplot(x=param, data=data,ax=ax[fig_nu]).set_title(\"Distribution of {0}\".format(param))\n",
    "        \n",
    "    else:\n",
    "        ax=sns.countplot(x=param, data=data).set_title(\"Distribution of {0}\".format(param))\n",
    "        plt.show()\n",
    "\n",
    "def basic_info_csv(data):\n",
    "  \n",
    "  numeric_columns=[]\n",
    "  cat_columns=[]\n",
    "  for i in data.columns:\n",
    "    if data[i].dtype=='int' or data[i].dtype=='float':\n",
    "      numeric_columns.append(i)\n",
    "    else:\n",
    "      cat_columns.append(i)\n",
    "\n",
    "  print(\"There are total {} rows and {} Columns in the given CSV.\".format(data.shape[0],data.shape[1]))\n",
    "  print(\"*\"*200)\n",
    "  print(\"There are {0} columns which contains numerical data and they are: \".format(len(numeric_columns)))\n",
    "  print(numeric_columns)\n",
    "  print(\"There are {0} columns which contains text/categorical data and they are: \".format(len(cat_columns)))\n",
    "  print(cat_columns)\n",
    "  print(\"*\"*200)\n",
    "  print(\"First 5 Rows of the Dataframe.\")\n",
    "  display(data.head())\n",
    "  print(\"*\"*200)\n",
    "  print(\"DataFrame Description(Pandas Inbuilt Function -> Describe):\")\n",
    "  display(data.describe())\n",
    "  print(\"*\"*200)\n",
    "  # print(\"DataFrame Info(Pandas  Inbuilt Function -> Info): \")\n",
    "  # display(data.info())\n",
    "  #print(\"*\"*100)\n",
    "  print(\"Missing Data Information\")\n",
    "  missing_values= data.isnull().sum(axis = 1).sum()\n",
    "  print(\"There are total {} values missing in the dataframe, which is around {}%.\".format(missing_values,round((missing_values/data.shape[0])*100),4))\n",
    "  missing_df=pd.DataFrame((data.isnull().sum(axis = 0)/data.shape[0])*100,columns=['% Missing']).reset_index()\n",
    "  missing_df=missing_df.rename(columns={'index':'Column'})\n",
    "  print(\"Column wise missing data information.\")\n",
    "  display(missing_df)\n",
    "\n",
    "  return numeric_columns,cat_columns\n"
   ]
  },
  {
   "cell_type": "markdown",
   "metadata": {},
   "source": [
    "# Importing dataset"
   ]
  },
  {
   "cell_type": "code",
   "execution_count": 16,
   "metadata": {},
   "outputs": [],
   "source": [
    "train = pd.read_csv('train.csv')\n",
    "test=pd.read_csv('test.csv')"
   ]
  },
  {
   "cell_type": "code",
   "execution_count": 3,
   "metadata": {},
   "outputs": [],
   "source": [
    "def read_data():\n",
    "    train_df = pd.read_csv('train.csv')\n",
    "    test_df =pd.read_csv('test.csv')\n",
    "\n",
    "    train = train_df.copy()\n",
    "    test = test_df.copy()\n",
    "\n",
    "    return train_df,test_df\n",
    "\n",
    "train_df,test_df=read_data()"
   ]
  },
  {
   "cell_type": "markdown",
   "metadata": {},
   "source": [
    "# EDA"
   ]
  },
  {
   "cell_type": "markdown",
   "metadata": {},
   "source": [
    "## Basic statitics "
   ]
  },
  {
   "cell_type": "markdown",
   "metadata": {},
   "source": [
    "### Train Dataset"
   ]
  },
  {
   "cell_type": "code",
   "execution_count": 4,
   "metadata": {},
   "outputs": [
    {
     "name": "stdout",
     "output_type": "stream",
     "text": [
      "There are total 39499 rows and 15 Columns in the given CSV.\n",
      "********************************************************************************************************************************************************************************************************\n",
      "There are 8 columns which contains numerical data and they are: \n",
      "['Property_Area', 'Number_of_Windows', 'Number_of_Doors', 'Frequency_of_Powercuts', 'Traffic_Density_Score', 'Air_Quality_Index', 'Neighborhood_Review', 'Habitability_score']\n",
      "There are 7 columns which contains text/categorical data and they are: \n",
      "['Property_ID', 'Property_Type', 'Furnishing', 'Power_Backup', 'Water_Supply', 'Crime_Rate', 'Dust_and_Noise']\n",
      "********************************************************************************************************************************************************************************************************\n",
      "First 5 Rows of the Dataframe.\n"
     ]
    },
    {
     "data": {
      "text/html": [
       "<div>\n",
       "<style scoped>\n",
       "    .dataframe tbody tr th:only-of-type {\n",
       "        vertical-align: middle;\n",
       "    }\n",
       "\n",
       "    .dataframe tbody tr th {\n",
       "        vertical-align: top;\n",
       "    }\n",
       "\n",
       "    .dataframe thead th {\n",
       "        text-align: right;\n",
       "    }\n",
       "</style>\n",
       "<table border=\"1\" class=\"dataframe\">\n",
       "  <thead>\n",
       "    <tr style=\"text-align: right;\">\n",
       "      <th></th>\n",
       "      <th>Property_ID</th>\n",
       "      <th>Property_Type</th>\n",
       "      <th>Property_Area</th>\n",
       "      <th>Number_of_Windows</th>\n",
       "      <th>Number_of_Doors</th>\n",
       "      <th>Furnishing</th>\n",
       "      <th>Frequency_of_Powercuts</th>\n",
       "      <th>Power_Backup</th>\n",
       "      <th>Water_Supply</th>\n",
       "      <th>Traffic_Density_Score</th>\n",
       "      <th>Crime_Rate</th>\n",
       "      <th>Dust_and_Noise</th>\n",
       "      <th>Air_Quality_Index</th>\n",
       "      <th>Neighborhood_Review</th>\n",
       "      <th>Habitability_score</th>\n",
       "    </tr>\n",
       "  </thead>\n",
       "  <tbody>\n",
       "    <tr>\n",
       "      <th>0</th>\n",
       "      <td>0x21e3</td>\n",
       "      <td>Apartment</td>\n",
       "      <td>106</td>\n",
       "      <td>NaN</td>\n",
       "      <td>1</td>\n",
       "      <td>Semi_Furnished</td>\n",
       "      <td>0.0</td>\n",
       "      <td>No</td>\n",
       "      <td>Once in a day - Morning</td>\n",
       "      <td>5.89</td>\n",
       "      <td>Slightly below average</td>\n",
       "      <td>Medium</td>\n",
       "      <td>90.0</td>\n",
       "      <td>3.86</td>\n",
       "      <td>71.98</td>\n",
       "    </tr>\n",
       "    <tr>\n",
       "      <th>1</th>\n",
       "      <td>0x68d4</td>\n",
       "      <td>Apartment</td>\n",
       "      <td>733</td>\n",
       "      <td>2.0</td>\n",
       "      <td>2</td>\n",
       "      <td>Unfurnished</td>\n",
       "      <td>1.0</td>\n",
       "      <td>No</td>\n",
       "      <td>Once in a day - Evening</td>\n",
       "      <td>4.37</td>\n",
       "      <td>Well below average</td>\n",
       "      <td>Medium</td>\n",
       "      <td>96.0</td>\n",
       "      <td>3.55</td>\n",
       "      <td>71.20</td>\n",
       "    </tr>\n",
       "    <tr>\n",
       "      <th>2</th>\n",
       "      <td>0x7d81</td>\n",
       "      <td>Apartment</td>\n",
       "      <td>737</td>\n",
       "      <td>4.0</td>\n",
       "      <td>2</td>\n",
       "      <td>Fully Furnished</td>\n",
       "      <td>0.0</td>\n",
       "      <td>No</td>\n",
       "      <td>Once in a day - Morning</td>\n",
       "      <td>7.45</td>\n",
       "      <td>Slightly below average</td>\n",
       "      <td>Medium</td>\n",
       "      <td>121.0</td>\n",
       "      <td>3.81</td>\n",
       "      <td>71.39</td>\n",
       "    </tr>\n",
       "    <tr>\n",
       "      <th>3</th>\n",
       "      <td>0x7a57</td>\n",
       "      <td>Apartment</td>\n",
       "      <td>900</td>\n",
       "      <td>3.0</td>\n",
       "      <td>2</td>\n",
       "      <td>Unfurnished</td>\n",
       "      <td>2.0</td>\n",
       "      <td>Yes</td>\n",
       "      <td>Once in a day - Morning</td>\n",
       "      <td>6.16</td>\n",
       "      <td>Well above average</td>\n",
       "      <td>Medium</td>\n",
       "      <td>100.0</td>\n",
       "      <td>1.34</td>\n",
       "      <td>31.46</td>\n",
       "    </tr>\n",
       "    <tr>\n",
       "      <th>4</th>\n",
       "      <td>0x9409</td>\n",
       "      <td>Bungalow</td>\n",
       "      <td>2238</td>\n",
       "      <td>14.0</td>\n",
       "      <td>6</td>\n",
       "      <td>Fully Furnished</td>\n",
       "      <td>0.0</td>\n",
       "      <td>No</td>\n",
       "      <td>All time</td>\n",
       "      <td>5.46</td>\n",
       "      <td>Well below average</td>\n",
       "      <td>Medium</td>\n",
       "      <td>116.0</td>\n",
       "      <td>4.77</td>\n",
       "      <td>93.70</td>\n",
       "    </tr>\n",
       "  </tbody>\n",
       "</table>\n",
       "</div>"
      ],
      "text/plain": [
       "  Property_ID Property_Type  Property_Area  Number_of_Windows  \\\n",
       "0      0x21e3     Apartment            106                NaN   \n",
       "1      0x68d4     Apartment            733                2.0   \n",
       "2      0x7d81     Apartment            737                4.0   \n",
       "3      0x7a57     Apartment            900                3.0   \n",
       "4      0x9409      Bungalow           2238               14.0   \n",
       "\n",
       "   Number_of_Doors       Furnishing  Frequency_of_Powercuts Power_Backup  \\\n",
       "0                1   Semi_Furnished                     0.0           No   \n",
       "1                2      Unfurnished                     1.0           No   \n",
       "2                2  Fully Furnished                     0.0           No   \n",
       "3                2      Unfurnished                     2.0          Yes   \n",
       "4                6  Fully Furnished                     0.0           No   \n",
       "\n",
       "              Water_Supply  Traffic_Density_Score              Crime_Rate  \\\n",
       "0  Once in a day - Morning                   5.89  Slightly below average   \n",
       "1  Once in a day - Evening                   4.37      Well below average   \n",
       "2  Once in a day - Morning                   7.45  Slightly below average   \n",
       "3  Once in a day - Morning                   6.16      Well above average   \n",
       "4                 All time                   5.46      Well below average   \n",
       "\n",
       "  Dust_and_Noise  Air_Quality_Index  Neighborhood_Review  Habitability_score  \n",
       "0         Medium               90.0                 3.86               71.98  \n",
       "1         Medium               96.0                 3.55               71.20  \n",
       "2         Medium              121.0                 3.81               71.39  \n",
       "3         Medium              100.0                 1.34               31.46  \n",
       "4         Medium              116.0                 4.77               93.70  "
      ]
     },
     "metadata": {},
     "output_type": "display_data"
    },
    {
     "name": "stdout",
     "output_type": "stream",
     "text": [
      "********************************************************************************************************************************************************************************************************\n",
      "DataFrame Description(Pandas Inbuilt Function -> Describe):\n"
     ]
    },
    {
     "data": {
      "text/html": [
       "<div>\n",
       "<style scoped>\n",
       "    .dataframe tbody tr th:only-of-type {\n",
       "        vertical-align: middle;\n",
       "    }\n",
       "\n",
       "    .dataframe tbody tr th {\n",
       "        vertical-align: top;\n",
       "    }\n",
       "\n",
       "    .dataframe thead th {\n",
       "        text-align: right;\n",
       "    }\n",
       "</style>\n",
       "<table border=\"1\" class=\"dataframe\">\n",
       "  <thead>\n",
       "    <tr style=\"text-align: right;\">\n",
       "      <th></th>\n",
       "      <th>Property_Area</th>\n",
       "      <th>Number_of_Windows</th>\n",
       "      <th>Number_of_Doors</th>\n",
       "      <th>Frequency_of_Powercuts</th>\n",
       "      <th>Traffic_Density_Score</th>\n",
       "      <th>Air_Quality_Index</th>\n",
       "      <th>Neighborhood_Review</th>\n",
       "      <th>Habitability_score</th>\n",
       "    </tr>\n",
       "  </thead>\n",
       "  <tbody>\n",
       "    <tr>\n",
       "      <th>count</th>\n",
       "      <td>39499.000000</td>\n",
       "      <td>37845.000000</td>\n",
       "      <td>39499.000000</td>\n",
       "      <td>38116.000000</td>\n",
       "      <td>39499.000000</td>\n",
       "      <td>39499.000000</td>\n",
       "      <td>39499.000000</td>\n",
       "      <td>39499.000000</td>\n",
       "    </tr>\n",
       "    <tr>\n",
       "      <th>mean</th>\n",
       "      <td>1391.715638</td>\n",
       "      <td>3.923768</td>\n",
       "      <td>2.331375</td>\n",
       "      <td>0.484678</td>\n",
       "      <td>6.354772</td>\n",
       "      <td>121.352566</td>\n",
       "      <td>3.735945</td>\n",
       "      <td>73.482297</td>\n",
       "    </tr>\n",
       "    <tr>\n",
       "      <th>std</th>\n",
       "      <td>1953.287544</td>\n",
       "      <td>2.690992</td>\n",
       "      <td>1.179964</td>\n",
       "      <td>0.752207</td>\n",
       "      <td>1.219681</td>\n",
       "      <td>62.384669</td>\n",
       "      <td>0.796843</td>\n",
       "      <td>14.118753</td>\n",
       "    </tr>\n",
       "    <tr>\n",
       "      <th>min</th>\n",
       "      <td>100.000000</td>\n",
       "      <td>0.000000</td>\n",
       "      <td>1.000000</td>\n",
       "      <td>0.000000</td>\n",
       "      <td>0.000000</td>\n",
       "      <td>0.000000</td>\n",
       "      <td>0.000000</td>\n",
       "      <td>7.280000</td>\n",
       "    </tr>\n",
       "    <tr>\n",
       "      <th>25%</th>\n",
       "      <td>494.000000</td>\n",
       "      <td>2.000000</td>\n",
       "      <td>1.000000</td>\n",
       "      <td>0.000000</td>\n",
       "      <td>5.600000</td>\n",
       "      <td>95.000000</td>\n",
       "      <td>3.220000</td>\n",
       "      <td>69.660000</td>\n",
       "    </tr>\n",
       "    <tr>\n",
       "      <th>50%</th>\n",
       "      <td>932.000000</td>\n",
       "      <td>4.000000</td>\n",
       "      <td>2.000000</td>\n",
       "      <td>0.000000</td>\n",
       "      <td>6.470000</td>\n",
       "      <td>113.000000</td>\n",
       "      <td>3.850000</td>\n",
       "      <td>75.760000</td>\n",
       "    </tr>\n",
       "    <tr>\n",
       "      <th>75%</th>\n",
       "      <td>1770.000000</td>\n",
       "      <td>5.000000</td>\n",
       "      <td>3.000000</td>\n",
       "      <td>1.000000</td>\n",
       "      <td>7.220000</td>\n",
       "      <td>140.000000</td>\n",
       "      <td>4.260000</td>\n",
       "      <td>82.260000</td>\n",
       "    </tr>\n",
       "    <tr>\n",
       "      <th>max</th>\n",
       "      <td>28064.000000</td>\n",
       "      <td>15.000000</td>\n",
       "      <td>6.000000</td>\n",
       "      <td>3.000000</td>\n",
       "      <td>9.910000</td>\n",
       "      <td>1044.000000</td>\n",
       "      <td>5.000000</td>\n",
       "      <td>100.000000</td>\n",
       "    </tr>\n",
       "  </tbody>\n",
       "</table>\n",
       "</div>"
      ],
      "text/plain": [
       "       Property_Area  Number_of_Windows  Number_of_Doors  \\\n",
       "count   39499.000000       37845.000000     39499.000000   \n",
       "mean     1391.715638           3.923768         2.331375   \n",
       "std      1953.287544           2.690992         1.179964   \n",
       "min       100.000000           0.000000         1.000000   \n",
       "25%       494.000000           2.000000         1.000000   \n",
       "50%       932.000000           4.000000         2.000000   \n",
       "75%      1770.000000           5.000000         3.000000   \n",
       "max     28064.000000          15.000000         6.000000   \n",
       "\n",
       "       Frequency_of_Powercuts  Traffic_Density_Score  Air_Quality_Index  \\\n",
       "count            38116.000000           39499.000000       39499.000000   \n",
       "mean                 0.484678               6.354772         121.352566   \n",
       "std                  0.752207               1.219681          62.384669   \n",
       "min                  0.000000               0.000000           0.000000   \n",
       "25%                  0.000000               5.600000          95.000000   \n",
       "50%                  0.000000               6.470000         113.000000   \n",
       "75%                  1.000000               7.220000         140.000000   \n",
       "max                  3.000000               9.910000        1044.000000   \n",
       "\n",
       "       Neighborhood_Review  Habitability_score  \n",
       "count         39499.000000        39499.000000  \n",
       "mean              3.735945           73.482297  \n",
       "std               0.796843           14.118753  \n",
       "min               0.000000            7.280000  \n",
       "25%               3.220000           69.660000  \n",
       "50%               3.850000           75.760000  \n",
       "75%               4.260000           82.260000  \n",
       "max               5.000000          100.000000  "
      ]
     },
     "metadata": {},
     "output_type": "display_data"
    },
    {
     "name": "stdout",
     "output_type": "stream",
     "text": [
      "********************************************************************************************************************************************************************************************************\n",
      "Missing Data Information\n",
      "There are total 6085 values missing in the dataframe, which is around 15%.\n",
      "Column wise missing data information.\n"
     ]
    },
    {
     "data": {
      "text/html": [
       "<div>\n",
       "<style scoped>\n",
       "    .dataframe tbody tr th:only-of-type {\n",
       "        vertical-align: middle;\n",
       "    }\n",
       "\n",
       "    .dataframe tbody tr th {\n",
       "        vertical-align: top;\n",
       "    }\n",
       "\n",
       "    .dataframe thead th {\n",
       "        text-align: right;\n",
       "    }\n",
       "</style>\n",
       "<table border=\"1\" class=\"dataframe\">\n",
       "  <thead>\n",
       "    <tr style=\"text-align: right;\">\n",
       "      <th></th>\n",
       "      <th>Column</th>\n",
       "      <th>% Missing</th>\n",
       "    </tr>\n",
       "  </thead>\n",
       "  <tbody>\n",
       "    <tr>\n",
       "      <th>0</th>\n",
       "      <td>Property_ID</td>\n",
       "      <td>0.000000</td>\n",
       "    </tr>\n",
       "    <tr>\n",
       "      <th>1</th>\n",
       "      <td>Property_Type</td>\n",
       "      <td>0.000000</td>\n",
       "    </tr>\n",
       "    <tr>\n",
       "      <th>2</th>\n",
       "      <td>Property_Area</td>\n",
       "      <td>0.000000</td>\n",
       "    </tr>\n",
       "    <tr>\n",
       "      <th>3</th>\n",
       "      <td>Number_of_Windows</td>\n",
       "      <td>4.187448</td>\n",
       "    </tr>\n",
       "    <tr>\n",
       "      <th>4</th>\n",
       "      <td>Number_of_Doors</td>\n",
       "      <td>0.000000</td>\n",
       "    </tr>\n",
       "    <tr>\n",
       "      <th>5</th>\n",
       "      <td>Furnishing</td>\n",
       "      <td>2.638041</td>\n",
       "    </tr>\n",
       "    <tr>\n",
       "      <th>6</th>\n",
       "      <td>Frequency_of_Powercuts</td>\n",
       "      <td>3.501354</td>\n",
       "    </tr>\n",
       "    <tr>\n",
       "      <th>7</th>\n",
       "      <td>Power_Backup</td>\n",
       "      <td>0.000000</td>\n",
       "    </tr>\n",
       "    <tr>\n",
       "      <th>8</th>\n",
       "      <td>Water_Supply</td>\n",
       "      <td>0.000000</td>\n",
       "    </tr>\n",
       "    <tr>\n",
       "      <th>9</th>\n",
       "      <td>Traffic_Density_Score</td>\n",
       "      <td>0.000000</td>\n",
       "    </tr>\n",
       "    <tr>\n",
       "      <th>10</th>\n",
       "      <td>Crime_Rate</td>\n",
       "      <td>1.992456</td>\n",
       "    </tr>\n",
       "    <tr>\n",
       "      <th>11</th>\n",
       "      <td>Dust_and_Noise</td>\n",
       "      <td>3.086154</td>\n",
       "    </tr>\n",
       "    <tr>\n",
       "      <th>12</th>\n",
       "      <td>Air_Quality_Index</td>\n",
       "      <td>0.000000</td>\n",
       "    </tr>\n",
       "    <tr>\n",
       "      <th>13</th>\n",
       "      <td>Neighborhood_Review</td>\n",
       "      <td>0.000000</td>\n",
       "    </tr>\n",
       "    <tr>\n",
       "      <th>14</th>\n",
       "      <td>Habitability_score</td>\n",
       "      <td>0.000000</td>\n",
       "    </tr>\n",
       "  </tbody>\n",
       "</table>\n",
       "</div>"
      ],
      "text/plain": [
       "                    Column  % Missing\n",
       "0              Property_ID   0.000000\n",
       "1            Property_Type   0.000000\n",
       "2            Property_Area   0.000000\n",
       "3        Number_of_Windows   4.187448\n",
       "4          Number_of_Doors   0.000000\n",
       "5               Furnishing   2.638041\n",
       "6   Frequency_of_Powercuts   3.501354\n",
       "7             Power_Backup   0.000000\n",
       "8             Water_Supply   0.000000\n",
       "9    Traffic_Density_Score   0.000000\n",
       "10              Crime_Rate   1.992456\n",
       "11          Dust_and_Noise   3.086154\n",
       "12       Air_Quality_Index   0.000000\n",
       "13     Neighborhood_Review   0.000000\n",
       "14      Habitability_score   0.000000"
      ]
     },
     "metadata": {},
     "output_type": "display_data"
    }
   ],
   "source": [
    "num_col,cat_col = basic_info_csv(train_df)\n",
    "cat_col = list(set(cat_col)-{'Property_ID'})"
   ]
  },
  {
   "cell_type": "markdown",
   "metadata": {},
   "source": [
    "### Test dataset"
   ]
  },
  {
   "cell_type": "code",
   "execution_count": 5,
   "metadata": {},
   "outputs": [
    {
     "name": "stdout",
     "output_type": "stream",
     "text": [
      "There are total 10500 rows and 14 Columns in the given CSV.\n",
      "********************************************************************************************************************************************************************************************************\n",
      "There are 7 columns which contains numerical data and they are: \n",
      "['Property_Area', 'Number_of_Windows', 'Number_of_Doors', 'Frequency_of_Powercuts', 'Traffic_Density_Score', 'Air_Quality_Index', 'Neighborhood_Review']\n",
      "There are 7 columns which contains text/categorical data and they are: \n",
      "['Property_ID', 'Property_Type', 'Furnishing', 'Power_Backup', 'Water_Supply', 'Crime_Rate', 'Dust_and_Noise']\n",
      "********************************************************************************************************************************************************************************************************\n",
      "First 5 Rows of the Dataframe.\n"
     ]
    },
    {
     "data": {
      "text/html": [
       "<div>\n",
       "<style scoped>\n",
       "    .dataframe tbody tr th:only-of-type {\n",
       "        vertical-align: middle;\n",
       "    }\n",
       "\n",
       "    .dataframe tbody tr th {\n",
       "        vertical-align: top;\n",
       "    }\n",
       "\n",
       "    .dataframe thead th {\n",
       "        text-align: right;\n",
       "    }\n",
       "</style>\n",
       "<table border=\"1\" class=\"dataframe\">\n",
       "  <thead>\n",
       "    <tr style=\"text-align: right;\">\n",
       "      <th></th>\n",
       "      <th>Property_ID</th>\n",
       "      <th>Property_Type</th>\n",
       "      <th>Property_Area</th>\n",
       "      <th>Number_of_Windows</th>\n",
       "      <th>Number_of_Doors</th>\n",
       "      <th>Furnishing</th>\n",
       "      <th>Frequency_of_Powercuts</th>\n",
       "      <th>Power_Backup</th>\n",
       "      <th>Water_Supply</th>\n",
       "      <th>Traffic_Density_Score</th>\n",
       "      <th>Crime_Rate</th>\n",
       "      <th>Dust_and_Noise</th>\n",
       "      <th>Air_Quality_Index</th>\n",
       "      <th>Neighborhood_Review</th>\n",
       "    </tr>\n",
       "  </thead>\n",
       "  <tbody>\n",
       "    <tr>\n",
       "      <th>0</th>\n",
       "      <td>0x6e93</td>\n",
       "      <td>Apartment</td>\n",
       "      <td>293</td>\n",
       "      <td>3.0</td>\n",
       "      <td>1</td>\n",
       "      <td>Unfurnished</td>\n",
       "      <td>0.0</td>\n",
       "      <td>No</td>\n",
       "      <td>Once in a day - Morning</td>\n",
       "      <td>7.28</td>\n",
       "      <td>Well above average</td>\n",
       "      <td>Medium</td>\n",
       "      <td>152.0</td>\n",
       "      <td>2.52</td>\n",
       "    </tr>\n",
       "    <tr>\n",
       "      <th>1</th>\n",
       "      <td>0x8787</td>\n",
       "      <td>Apartment</td>\n",
       "      <td>586</td>\n",
       "      <td>4.0</td>\n",
       "      <td>1</td>\n",
       "      <td>Semi_Furnished</td>\n",
       "      <td>0.0</td>\n",
       "      <td>No</td>\n",
       "      <td>Once in a day - Evening</td>\n",
       "      <td>7.63</td>\n",
       "      <td>Well below average</td>\n",
       "      <td>Medium</td>\n",
       "      <td>92.0</td>\n",
       "      <td>4.16</td>\n",
       "    </tr>\n",
       "    <tr>\n",
       "      <th>2</th>\n",
       "      <td>0x6c17</td>\n",
       "      <td>Container Home</td>\n",
       "      <td>305</td>\n",
       "      <td>1.0</td>\n",
       "      <td>2</td>\n",
       "      <td>Semi_Furnished</td>\n",
       "      <td>1.0</td>\n",
       "      <td>No</td>\n",
       "      <td>All time</td>\n",
       "      <td>5.39</td>\n",
       "      <td>Slightly above average</td>\n",
       "      <td>Medium</td>\n",
       "      <td>90.0</td>\n",
       "      <td>2.92</td>\n",
       "    </tr>\n",
       "    <tr>\n",
       "      <th>3</th>\n",
       "      <td>0x9dbd</td>\n",
       "      <td>Apartment</td>\n",
       "      <td>258</td>\n",
       "      <td>2.0</td>\n",
       "      <td>1</td>\n",
       "      <td>Semi_Furnished</td>\n",
       "      <td>1.0</td>\n",
       "      <td>No</td>\n",
       "      <td>All time</td>\n",
       "      <td>7.53</td>\n",
       "      <td>Slightly below average</td>\n",
       "      <td>Medium</td>\n",
       "      <td>158.0</td>\n",
       "      <td>3.45</td>\n",
       "    </tr>\n",
       "    <tr>\n",
       "      <th>4</th>\n",
       "      <td>0xbfde</td>\n",
       "      <td>Bungalow</td>\n",
       "      <td>3031</td>\n",
       "      <td>12.0</td>\n",
       "      <td>4</td>\n",
       "      <td>Fully Furnished</td>\n",
       "      <td>0.0</td>\n",
       "      <td>No</td>\n",
       "      <td>All time</td>\n",
       "      <td>8.79</td>\n",
       "      <td>Well above average</td>\n",
       "      <td>High</td>\n",
       "      <td>186.0</td>\n",
       "      <td>2.72</td>\n",
       "    </tr>\n",
       "  </tbody>\n",
       "</table>\n",
       "</div>"
      ],
      "text/plain": [
       "  Property_ID   Property_Type  Property_Area  Number_of_Windows  \\\n",
       "0      0x6e93       Apartment            293                3.0   \n",
       "1      0x8787       Apartment            586                4.0   \n",
       "2      0x6c17  Container Home            305                1.0   \n",
       "3      0x9dbd       Apartment            258                2.0   \n",
       "4      0xbfde        Bungalow           3031               12.0   \n",
       "\n",
       "   Number_of_Doors       Furnishing  Frequency_of_Powercuts Power_Backup  \\\n",
       "0                1      Unfurnished                     0.0           No   \n",
       "1                1   Semi_Furnished                     0.0           No   \n",
       "2                2   Semi_Furnished                     1.0           No   \n",
       "3                1   Semi_Furnished                     1.0           No   \n",
       "4                4  Fully Furnished                     0.0           No   \n",
       "\n",
       "              Water_Supply  Traffic_Density_Score              Crime_Rate  \\\n",
       "0  Once in a day - Morning                   7.28      Well above average   \n",
       "1  Once in a day - Evening                   7.63      Well below average   \n",
       "2                 All time                   5.39  Slightly above average   \n",
       "3                 All time                   7.53  Slightly below average   \n",
       "4                 All time                   8.79      Well above average   \n",
       "\n",
       "  Dust_and_Noise  Air_Quality_Index  Neighborhood_Review  \n",
       "0         Medium              152.0                 2.52  \n",
       "1         Medium               92.0                 4.16  \n",
       "2         Medium               90.0                 2.92  \n",
       "3         Medium              158.0                 3.45  \n",
       "4           High              186.0                 2.72  "
      ]
     },
     "metadata": {},
     "output_type": "display_data"
    },
    {
     "name": "stdout",
     "output_type": "stream",
     "text": [
      "********************************************************************************************************************************************************************************************************\n",
      "DataFrame Description(Pandas Inbuilt Function -> Describe):\n"
     ]
    },
    {
     "data": {
      "text/html": [
       "<div>\n",
       "<style scoped>\n",
       "    .dataframe tbody tr th:only-of-type {\n",
       "        vertical-align: middle;\n",
       "    }\n",
       "\n",
       "    .dataframe tbody tr th {\n",
       "        vertical-align: top;\n",
       "    }\n",
       "\n",
       "    .dataframe thead th {\n",
       "        text-align: right;\n",
       "    }\n",
       "</style>\n",
       "<table border=\"1\" class=\"dataframe\">\n",
       "  <thead>\n",
       "    <tr style=\"text-align: right;\">\n",
       "      <th></th>\n",
       "      <th>Property_Area</th>\n",
       "      <th>Number_of_Windows</th>\n",
       "      <th>Number_of_Doors</th>\n",
       "      <th>Frequency_of_Powercuts</th>\n",
       "      <th>Traffic_Density_Score</th>\n",
       "      <th>Air_Quality_Index</th>\n",
       "      <th>Neighborhood_Review</th>\n",
       "    </tr>\n",
       "  </thead>\n",
       "  <tbody>\n",
       "    <tr>\n",
       "      <th>count</th>\n",
       "      <td>10500.000000</td>\n",
       "      <td>10055.000000</td>\n",
       "      <td>10500.000000</td>\n",
       "      <td>10134.000000</td>\n",
       "      <td>10500.000000</td>\n",
       "      <td>10500.000000</td>\n",
       "      <td>10500.000000</td>\n",
       "    </tr>\n",
       "    <tr>\n",
       "      <th>mean</th>\n",
       "      <td>1364.333333</td>\n",
       "      <td>3.897563</td>\n",
       "      <td>2.326571</td>\n",
       "      <td>0.484409</td>\n",
       "      <td>6.361525</td>\n",
       "      <td>120.532571</td>\n",
       "      <td>3.734125</td>\n",
       "    </tr>\n",
       "    <tr>\n",
       "      <th>std</th>\n",
       "      <td>1813.702032</td>\n",
       "      <td>2.690162</td>\n",
       "      <td>1.175324</td>\n",
       "      <td>0.749686</td>\n",
       "      <td>1.216237</td>\n",
       "      <td>55.635990</td>\n",
       "      <td>0.793325</td>\n",
       "    </tr>\n",
       "    <tr>\n",
       "      <th>min</th>\n",
       "      <td>100.000000</td>\n",
       "      <td>0.000000</td>\n",
       "      <td>1.000000</td>\n",
       "      <td>0.000000</td>\n",
       "      <td>0.020000</td>\n",
       "      <td>0.000000</td>\n",
       "      <td>0.020000</td>\n",
       "    </tr>\n",
       "    <tr>\n",
       "      <th>25%</th>\n",
       "      <td>505.000000</td>\n",
       "      <td>2.000000</td>\n",
       "      <td>1.000000</td>\n",
       "      <td>0.000000</td>\n",
       "      <td>5.620000</td>\n",
       "      <td>95.000000</td>\n",
       "      <td>3.230000</td>\n",
       "    </tr>\n",
       "    <tr>\n",
       "      <th>50%</th>\n",
       "      <td>935.500000</td>\n",
       "      <td>3.000000</td>\n",
       "      <td>2.000000</td>\n",
       "      <td>0.000000</td>\n",
       "      <td>6.470000</td>\n",
       "      <td>113.000000</td>\n",
       "      <td>3.850000</td>\n",
       "    </tr>\n",
       "    <tr>\n",
       "      <th>75%</th>\n",
       "      <td>1758.000000</td>\n",
       "      <td>5.000000</td>\n",
       "      <td>3.000000</td>\n",
       "      <td>1.000000</td>\n",
       "      <td>7.220000</td>\n",
       "      <td>140.000000</td>\n",
       "      <td>4.220000</td>\n",
       "    </tr>\n",
       "    <tr>\n",
       "      <th>max</th>\n",
       "      <td>27477.000000</td>\n",
       "      <td>15.000000</td>\n",
       "      <td>6.000000</td>\n",
       "      <td>3.000000</td>\n",
       "      <td>9.430000</td>\n",
       "      <td>1031.000000</td>\n",
       "      <td>5.000000</td>\n",
       "    </tr>\n",
       "  </tbody>\n",
       "</table>\n",
       "</div>"
      ],
      "text/plain": [
       "       Property_Area  Number_of_Windows  Number_of_Doors  \\\n",
       "count   10500.000000       10055.000000     10500.000000   \n",
       "mean     1364.333333           3.897563         2.326571   \n",
       "std      1813.702032           2.690162         1.175324   \n",
       "min       100.000000           0.000000         1.000000   \n",
       "25%       505.000000           2.000000         1.000000   \n",
       "50%       935.500000           3.000000         2.000000   \n",
       "75%      1758.000000           5.000000         3.000000   \n",
       "max     27477.000000          15.000000         6.000000   \n",
       "\n",
       "       Frequency_of_Powercuts  Traffic_Density_Score  Air_Quality_Index  \\\n",
       "count            10134.000000           10500.000000       10500.000000   \n",
       "mean                 0.484409               6.361525         120.532571   \n",
       "std                  0.749686               1.216237          55.635990   \n",
       "min                  0.000000               0.020000           0.000000   \n",
       "25%                  0.000000               5.620000          95.000000   \n",
       "50%                  0.000000               6.470000         113.000000   \n",
       "75%                  1.000000               7.220000         140.000000   \n",
       "max                  3.000000               9.430000        1031.000000   \n",
       "\n",
       "       Neighborhood_Review  \n",
       "count         10500.000000  \n",
       "mean              3.734125  \n",
       "std               0.793325  \n",
       "min               0.020000  \n",
       "25%               3.230000  \n",
       "50%               3.850000  \n",
       "75%               4.220000  \n",
       "max               5.000000  "
      ]
     },
     "metadata": {},
     "output_type": "display_data"
    },
    {
     "name": "stdout",
     "output_type": "stream",
     "text": [
      "********************************************************************************************************************************************************************************************************\n",
      "Missing Data Information\n",
      "There are total 1610 values missing in the dataframe, which is around 15%.\n",
      "Column wise missing data information.\n"
     ]
    },
    {
     "data": {
      "text/html": [
       "<div>\n",
       "<style scoped>\n",
       "    .dataframe tbody tr th:only-of-type {\n",
       "        vertical-align: middle;\n",
       "    }\n",
       "\n",
       "    .dataframe tbody tr th {\n",
       "        vertical-align: top;\n",
       "    }\n",
       "\n",
       "    .dataframe thead th {\n",
       "        text-align: right;\n",
       "    }\n",
       "</style>\n",
       "<table border=\"1\" class=\"dataframe\">\n",
       "  <thead>\n",
       "    <tr style=\"text-align: right;\">\n",
       "      <th></th>\n",
       "      <th>Column</th>\n",
       "      <th>% Missing</th>\n",
       "    </tr>\n",
       "  </thead>\n",
       "  <tbody>\n",
       "    <tr>\n",
       "      <th>0</th>\n",
       "      <td>Property_ID</td>\n",
       "      <td>0.000000</td>\n",
       "    </tr>\n",
       "    <tr>\n",
       "      <th>1</th>\n",
       "      <td>Property_Type</td>\n",
       "      <td>0.000000</td>\n",
       "    </tr>\n",
       "    <tr>\n",
       "      <th>2</th>\n",
       "      <td>Property_Area</td>\n",
       "      <td>0.000000</td>\n",
       "    </tr>\n",
       "    <tr>\n",
       "      <th>3</th>\n",
       "      <td>Number_of_Windows</td>\n",
       "      <td>4.238095</td>\n",
       "    </tr>\n",
       "    <tr>\n",
       "      <th>4</th>\n",
       "      <td>Number_of_Doors</td>\n",
       "      <td>0.000000</td>\n",
       "    </tr>\n",
       "    <tr>\n",
       "      <th>5</th>\n",
       "      <td>Furnishing</td>\n",
       "      <td>2.447619</td>\n",
       "    </tr>\n",
       "    <tr>\n",
       "      <th>6</th>\n",
       "      <td>Frequency_of_Powercuts</td>\n",
       "      <td>3.485714</td>\n",
       "    </tr>\n",
       "    <tr>\n",
       "      <th>7</th>\n",
       "      <td>Power_Backup</td>\n",
       "      <td>0.000000</td>\n",
       "    </tr>\n",
       "    <tr>\n",
       "      <th>8</th>\n",
       "      <td>Water_Supply</td>\n",
       "      <td>0.000000</td>\n",
       "    </tr>\n",
       "    <tr>\n",
       "      <th>9</th>\n",
       "      <td>Traffic_Density_Score</td>\n",
       "      <td>0.000000</td>\n",
       "    </tr>\n",
       "    <tr>\n",
       "      <th>10</th>\n",
       "      <td>Crime_Rate</td>\n",
       "      <td>2.019048</td>\n",
       "    </tr>\n",
       "    <tr>\n",
       "      <th>11</th>\n",
       "      <td>Dust_and_Noise</td>\n",
       "      <td>3.142857</td>\n",
       "    </tr>\n",
       "    <tr>\n",
       "      <th>12</th>\n",
       "      <td>Air_Quality_Index</td>\n",
       "      <td>0.000000</td>\n",
       "    </tr>\n",
       "    <tr>\n",
       "      <th>13</th>\n",
       "      <td>Neighborhood_Review</td>\n",
       "      <td>0.000000</td>\n",
       "    </tr>\n",
       "  </tbody>\n",
       "</table>\n",
       "</div>"
      ],
      "text/plain": [
       "                    Column  % Missing\n",
       "0              Property_ID   0.000000\n",
       "1            Property_Type   0.000000\n",
       "2            Property_Area   0.000000\n",
       "3        Number_of_Windows   4.238095\n",
       "4          Number_of_Doors   0.000000\n",
       "5               Furnishing   2.447619\n",
       "6   Frequency_of_Powercuts   3.485714\n",
       "7             Power_Backup   0.000000\n",
       "8             Water_Supply   0.000000\n",
       "9    Traffic_Density_Score   0.000000\n",
       "10              Crime_Rate   2.019048\n",
       "11          Dust_and_Noise   3.142857\n",
       "12       Air_Quality_Index   0.000000\n",
       "13     Neighborhood_Review   0.000000"
      ]
     },
     "metadata": {},
     "output_type": "display_data"
    }
   ],
   "source": [
    "_,_ = basic_info_csv(test_df)"
   ]
  },
  {
   "cell_type": "markdown",
   "metadata": {},
   "source": [
    "## Univariate Analysis"
   ]
  },
  {
   "cell_type": "markdown",
   "metadata": {},
   "source": [
    "#### Categorical Variable Distribution"
   ]
  },
  {
   "cell_type": "code",
   "execution_count": 6,
   "metadata": {},
   "outputs": [
    {
     "data": {
      "image/png": "[encoded data removed]",
      "text/plain": [
       "<Figure size 1368x792 with 6 Axes>"
      ]
     },
     "metadata": {},
     "output_type": "display_data"
    }
   ],
   "source": [
    "\n",
    "fig, ax =plt.subplots(3,2)\n",
    "sns.set(rc={'figure.figsize':(19,11)})\n",
    "ax = ax.flatten()\n",
    "for idx,col in enumerate(cat_col):\n",
    "   \n",
    "    sns.countplot(train_df[col],ax=ax[idx])#.set_title(\"Distribution of {0}\".format(col))\n",
    "fig.suptitle('Distribution of all categorical variables') \n",
    "plt.grid()\n",
    "fig.tight_layout()"
   ]
  },
  {
   "cell_type": "markdown",
   "metadata": {},
   "source": [
    "> Observations\n",
    "1. Most of the properties have medium dust and noise. \n",
    "2. Mostly properties are apartment types followed by single-family homes, duplex, bonglow etc\n",
    "3. Most properties don't have power backups.\n",
    "4. Most houses are semi furnished.\n",
    "5. Most houses have water supply all the times.\n",
    "6. crime rate is well below avergae for most of the properties. "
   ]
  },
  {
   "cell_type": "markdown",
   "metadata": {},
   "source": [
    "#### Numerical variable distribution"
   ]
  },
  {
   "cell_type": "code",
   "execution_count": 7,
   "metadata": {},
   "outputs": [
    {
     "data": {
      "image/png": "[encoded data removed]",
      "text/plain": [
       "<Figure size 1368x792 with 8 Axes>"
      ]
     },
     "metadata": {},
     "output_type": "display_data"
    }
   ],
   "source": [
    "fig, ax =plt.subplots(4,2)\n",
    "sns.set(rc={'figure.figsize':(19,11)})\n",
    "ax = ax.flatten()\n",
    "\n",
    "for idx,col in enumerate(num_col):\n",
    "   \n",
    "    sns.histplot(train_df[col],ax=ax[idx])\n",
    "\n",
    "fig.suptitle('Distribution of all numerical variables') \n",
    "plt.grid()\n",
    "fig.tight_layout()"
   ]
  },
  {
   "cell_type": "markdown",
   "metadata": {},
   "source": [
    "Log of target"
   ]
  },
  {
   "cell_type": "code",
   "execution_count": 70,
   "metadata": {},
   "outputs": [
    {
     "data": {
      "text/plain": [
       "<AxesSubplot:xlabel='Habitability_score', ylabel='Count'>"
      ]
     },
     "execution_count": 70,
     "metadata": {},
     "output_type": "execute_result"
    },
    {
     "data": {
      "image/png": "[encoded data removed]",
      "text/plain": [
       "<Figure size 504x360 with 1 Axes>"
      ]
     },
     "metadata": {},
     "output_type": "display_data"
    }
   ],
   "source": [
    "y= 'Habitability_score'\n",
    "sns.set(rc={'figure.figsize':(7,5)})\n",
    "sns.histplot(np.log(train_df[y]))"
   ]
  },
  {
   "cell_type": "markdown",
   "metadata": {},
   "source": [
    "- Don't change anything"
   ]
  },
  {
   "cell_type": "markdown",
   "metadata": {},
   "source": [
    "Log of AQI"
   ]
  },
  {
   "cell_type": "code",
   "execution_count": 71,
   "metadata": {},
   "outputs": [
    {
     "data": {
      "text/plain": [
       "<AxesSubplot:xlabel='Air_Quality_Index', ylabel='Count'>"
      ]
     },
     "execution_count": 71,
     "metadata": {},
     "output_type": "execute_result"
    },
    {
     "data": {
      "image/png": "[encoded data removed]",
      "text/plain": [
       "<Figure size 504x360 with 1 Axes>"
      ]
     },
     "metadata": {},
     "output_type": "display_data"
    }
   ],
   "source": [
    "y= 'Air_Quality_Index'\n",
    "sns.set(rc={'figure.figsize':(7,5)})\n",
    "sns.histplot(np.log(train_df[y]))"
   ]
  },
  {
   "cell_type": "markdown",
   "metadata": {},
   "source": [
    "log of property area"
   ]
  },
  {
   "cell_type": "code",
   "execution_count": 72,
   "metadata": {},
   "outputs": [
    {
     "data": {
      "text/plain": [
       "<AxesSubplot:xlabel='Property_Area', ylabel='Count'>"
      ]
     },
     "execution_count": 72,
     "metadata": {},
     "output_type": "execute_result"
    },
    {
     "data": {
      "image/png": "[encoded data removed]",
      "text/plain": [
       "<Figure size 504x360 with 1 Axes>"
      ]
     },
     "metadata": {},
     "output_type": "display_data"
    }
   ],
   "source": [
    "y= 'Property_Area'\n",
    "sns.set(rc={'figure.figsize':(7,5)})\n",
    "sns.histplot(np.log(train_df[y]))"
   ]
  },
  {
   "cell_type": "markdown",
   "metadata": {},
   "source": [
    "- Makes it less skywed "
   ]
  },
  {
   "cell_type": "markdown",
   "metadata": {},
   "source": [
    "## Bivariate Analysis"
   ]
  },
  {
   "cell_type": "code",
   "execution_count": 8,
   "metadata": {},
   "outputs": [
    {
     "data": {
      "image/png": "[encoded data removed]",
      "text/plain": [
       "<Figure size 1368x792 with 6 Axes>"
      ]
     },
     "metadata": {},
     "output_type": "display_data"
    }
   ],
   "source": [
    "fig, ax =plt.subplots(3,2)\n",
    "sns.set(rc={'figure.figsize':(19,11)})\n",
    "ax = ax.flatten()\n",
    "\n",
    "for idx,col in enumerate(cat_col):\n",
    "   \n",
    "    sns.boxplot(x=col, y=\"Habitability_score\",data=train_df,ax=ax[idx])\n",
    "\n",
    "fig.suptitle('box plot of all categories across Habitability score') \n",
    "plt.grid()\n",
    "fig.tight_layout()"
   ]
  },
  {
   "cell_type": "markdown",
   "metadata": {},
   "source": [
    "### Data preprocessing"
   ]
  },
  {
   "cell_type": "markdown",
   "metadata": {},
   "source": [
    "#### Feature Engineering "
   ]
  },
  {
   "cell_type": "markdown",
   "metadata": {},
   "source": [
    "Null Values Imputation "
   ]
  },
  {
   "cell_type": "code",
   "execution_count": 75,
   "metadata": {},
   "outputs": [],
   "source": [
    "\n",
    "def treat_nans(train_df,test_df):\n",
    "\n",
    "\n",
    "    train_df['Number_of_Windows'] = np.where(train_df['Number_of_Windows'].isna(),4.0,train_df['Number_of_Windows'])\n",
    "    train_df['Furnishing'] = np.where(train_df['Furnishing'].isna(),'Semi_Furnished',train_df['Furnishing'])\n",
    "    train_df['Frequency_of_Powercuts'] = np.where(train_df['Frequency_of_Powercuts'].isna(),0.0,train_df['Frequency_of_Powercuts'])\n",
    "    train_df['Crime_Rate'] = np.where(train_df['Crime_Rate'].isna(),'Well below average',train_df['Crime_Rate'])\n",
    "    train_df['Dust_and_Noise'] = np.where(train_df['Dust_and_Noise'].isna(),'Medium',train_df['Dust_and_Noise'])\n",
    "    \n",
    "    test_df['Number_of_Windows'] = np.where(test_df['Number_of_Windows'].isna(),4.0,test_df['Number_of_Windows'])\n",
    "    test_df['Furnishing'] = np.where(test_df['Furnishing'].isna(),'Semi_Furnished',test_df['Furnishing'])\n",
    "    test_df['Frequency_of_Powercuts'] = np.where(test_df['Frequency_of_Powercuts'].isna(),0.0,test_df['Frequency_of_Powercuts'])\n",
    "    test_df['Crime_Rate'] = np.where(test_df['Crime_Rate'].isna(),'Well below average',test_df['Crime_Rate'])\n",
    "    test_df['Dust_and_Noise'] = np.where(test_df['Dust_and_Noise'].isna(),'Medium',test_df['Dust_and_Noise'])\n",
    "\n",
    "    return train_df,test_df\n"
   ]
  },
  {
   "cell_type": "markdown",
   "metadata": {},
   "source": [
    "As per above plots"
   ]
  },
  {
   "cell_type": "code",
   "execution_count": 114,
   "metadata": {},
   "outputs": [],
   "source": [
    "\n",
    "\n",
    "def feature_engine(train_df,test_df,set1=\"1\"):\n",
    "\n",
    "\n",
    "    train_df['crime_rate_well_above_average'] = np.where(train_df['Crime_Rate']=='Well above average',0,1)\n",
    "    train_df['furnishing_unfurnished'] = np.where(train_df['Furnishing']=='Unfurnished',0,1)\n",
    "    train_df['water_supply_once_in_2_days'] = np.where(train_df['Water_Supply']=='Once in two days',0,1)\n",
    "    train_df['power_backup_yes'] = np.where(train_df['Power_Backup']=='Yes',1,0)\n",
    "    train_df['nr_greater_than_3'] = np.where(train_df['Neighborhood_Review']>3,1,0)\n",
    "    train_df['dust_noise_high'] = np.where(train_df['Dust_and_Noise']=='High',0,1)\n",
    "    train_df['dust_noise_low'] = np.where(train_df['Dust_and_Noise']=='Low',1,0)\n",
    "    train_df['inter1'] =train_df['crime_rate_well_above_average']+train_df['dust_noise_high']\n",
    "    train_df['inter2'] =train_df['nr_greater_than_3']+train_df['dust_noise_low']\n",
    "    train_df['inter3'] =train_df['nr_greater_than_3']+train_df['dust_noise_low']+train_df['power_backup_yes']\n",
    "    train_df['inter4'] =train_df['nr_greater_than_3']+train_df['dust_noise_low']+train_df['power_backup_yes']+train_df['furnishing_unfurnished']+train_df['crime_rate_well_above_average']\n",
    "    train_df['inter5'] =train_df['nr_greater_than_3']+train_df['dust_noise_low']+train_df['power_backup_yes']+\\\n",
    "                        train_df['furnishing_unfurnished']+train_df['crime_rate_well_above_average']+train_df['water_supply_once_in_2_days']\n",
    "\n",
    "    #train_df['property_area_log']= np.log(train_df['Property_Area'])\n",
    "\n",
    "\n",
    "    test_df['crime_rate_well_above_average'] = np.where(test_df['Crime_Rate']=='Well above average',0,1)\n",
    "    test_df['furnishing_unfurnished'] = np.where(test_df['Furnishing']=='Unfurnished',0,1)\n",
    "    test_df['water_supply_once_in_2_days'] = np.where(test_df['Water_Supply']=='Once in two days',0,1)\n",
    "    test_df['power_backup_yes'] = np.where(test_df['Power_Backup']=='Yes',1,0)\n",
    "    test_df['nr_greater_than_3'] = np.where(test_df['Neighborhood_Review']>3,1,0)\n",
    "    test_df['dust_noise_high'] = np.where(test_df['Dust_and_Noise']=='High',0,1)\n",
    "    test_df['dust_noise_low'] = np.where(test_df['Dust_and_Noise']=='Low',1,0)\n",
    "    test_df['inter1'] =test_df['crime_rate_well_above_average']+test_df['dust_noise_high']\n",
    "    test_df['inter2'] =test_df['nr_greater_than_3']+test_df['dust_noise_low']\n",
    "    test_df['inter3'] =test_df['nr_greater_than_3']+test_df['dust_noise_low']+test_df['power_backup_yes']\n",
    "    test_df['inter4'] =test_df['nr_greater_than_3']+test_df['dust_noise_low']+test_df['power_backup_yes']+test_df['furnishing_unfurnished']+test_df['crime_rate_well_above_average']\n",
    "    test_df['inter5'] =test_df['nr_greater_than_3']+test_df['dust_noise_low']+test_df['power_backup_yes']+\\\n",
    "                        test_df['furnishing_unfurnished']+test_df['crime_rate_well_above_average']+test_df['water_supply_once_in_2_days']\n",
    "\n",
    "    #test_df['property_area_log']= np.log(test_df['Property_Area'])\n",
    "\n",
    "\n",
    "    if set1=='1':\n",
    "        feature_to_drop = ['inter1','inter2','inter3','inter4','crime_rate_well_above_average','furnishing_unfurnished','water_supply_once_in_2_days',\n",
    "                        'power_backup_yes','nr_greater_than_3','dust_noise_high','dust_noise_low']\n",
    "    elif set1=='2':\n",
    "        feature_to_drop= ['inter1','inter2','inter3','inter4']\n",
    "    else:\n",
    "        feature_to_drop= []\n",
    "\n",
    "    train_df.drop(columns=feature_to_drop,axis=0,inplace=True)\n",
    "\n",
    "    test_df.drop(columns=feature_to_drop,axis=0,inplace=True)\n",
    "\n",
    "    return train_df,test_df"
   ]
  },
  {
   "cell_type": "code",
   "execution_count": 10,
   "metadata": {},
   "outputs": [
    {
     "name": "stdout",
     "output_type": "stream",
     "text": [
      "shape of train data after adding features: (39499, 15)\n",
      "shape of test data after adding features: (10500, 14)\n"
     ]
    }
   ],
   "source": [
    "print(\"shape of train data after adding features:\",train_df.shape)\n",
    "print(\"shape of test data after adding features:\",test_df.shape)"
   ]
  },
  {
   "cell_type": "markdown",
   "metadata": {},
   "source": [
    "Aggregating the target from history at categorical level. "
   ]
  },
  {
   "cell_type": "code",
   "execution_count": 7,
   "metadata": {},
   "outputs": [],
   "source": [
    "def creating_agg_features(train,test,col,target,time=True):\n",
    "    #25th Percentile\n",
    "    def q25(x):\n",
    "        return x.quantile(0.25)\n",
    "    #75th Percentile\n",
    "    def q75(x):\n",
    "        return x.quantile(0.75)\n",
    "\n",
    "    #95th Percentile\n",
    "    def q95(x):\n",
    "        return x.quantile(0.95)\n",
    "\n",
    "    #99th Percentile\n",
    "    def q99(x):\n",
    "        return x.quantile(0.99)   \n",
    "\n",
    "\n",
    "    _mean=dict()\n",
    "    _max=dict()\n",
    "    _min = dict()\n",
    "    _median=dict()\n",
    "    _25 = dict()\n",
    "    _75 = dict()\n",
    "    _95 = dict()\n",
    "    _99 = dict()\n",
    "    std = dict()\n",
    "\n",
    "\n",
    "\n",
    "    for i in train.groupby(col)[[target]].mean().reset_index().values:\n",
    "        \n",
    "        if time:\n",
    "            _mean[str(i[0])]=i[1]\n",
    "        else:\n",
    "            _mean[int(i[0])]=i[1]\n",
    "    #min always 0 so discarding \n",
    "    for i in train.groupby(col)[[target]].min().reset_index().values:\n",
    "        if time:\n",
    "            _min[str(i[0])]=i[1]\n",
    "        else:\n",
    "            _min[int(i[0])]=i[1]\n",
    "    for i in train.groupby(col)[[target]].max().reset_index().values:\n",
    "        if time:\n",
    "            _max[str(i[0])]=i[1]\n",
    "        else:\n",
    "            _max[int(i[0])]=i[1]\n",
    "    for i in train.groupby(col)[[target]].median().reset_index().values:\n",
    "        if time:\n",
    "            _median[str(i[0])]=i[1]\n",
    "        else:\n",
    "            _median[int(i[0])]=i[1]\n",
    "    for i in train.groupby([col]).agg({target: [q25]}).reset_index().values:\n",
    "        #print(i)\n",
    "        if time:\n",
    "            _25[str(i[0])]=i[1]\n",
    "        else:\n",
    "            _25[int(i[0])]=i[1]\n",
    "    for i in train.groupby([col]).agg({target: [q75]}).reset_index().values:\n",
    "        if time:\n",
    "            _75[str(i[0])]=i[1]\n",
    "        else:\n",
    "            _75[int(i[0])]=i[1]\n",
    "\n",
    "    for i in train.groupby([col]).agg({target: [q95]}).reset_index().values:\n",
    "        if time:\n",
    "            _95[str(i[0])]=i[1]\n",
    "        else:\n",
    "            _95[int(i[0])]=i[1]      \n",
    "\n",
    "    for i in train.groupby([col]).agg({target: [q99]}).reset_index().values:\n",
    "        if time:\n",
    "            _99[str(i[0])]=i[1]\n",
    "        else:\n",
    "            _99[int(i[0])]=i[1]\n",
    "            \n",
    "    for i in train.groupby([col])[[target]].apply(np.std).reset_index().values:\n",
    "        if time:\n",
    "            std[str(i[0])]=i[1]\n",
    "        else:\n",
    "            std[int(i[0])]=i[1]           \n",
    "\n",
    "    train[col+'_mean'] = train[col].map(_mean)\n",
    "    train[col+'_min'] = train[col].map(_min)\n",
    "    train[col+'_max'] = train[col].map(_max)\n",
    "    train[col+'_median'] = train[col].map(_median)\n",
    "    train[col+'_25th'] = train[col].map(_25)\n",
    "    train[col+'_75th'] = train[col].map(_75)\n",
    "    train[col+'_95th'] = train[col].map(_95)\n",
    "    train[col+'_99th'] = train[col].map(_99)\n",
    "    train[col+'_stddev'] = train[col].map(std)\n",
    "\n",
    "    test[col+'_mean'] = test[col].map(_mean)\n",
    "    test[col+'_min'] = test[col].map(_min)\n",
    "    test[col+'_max'] = test[col].map(_max)\n",
    "    test[col+'_median'] = test[col].map(_median)\n",
    "    test[col+'_25th'] = test[col].map(_25)\n",
    "    test[col+'_75th'] = test[col].map(_75)\n",
    "    test[col+'_95th'] = test[col].map(_95)\n",
    "    test[col+'_99th'] = test[col].map(_99)\n",
    "    test[col+'_stddev'] = test[col].map(std)\n",
    "    \n",
    "    #print(_mean)\n",
    "    #print(_max)\n",
    "    \n",
    "\n",
    "    return train,test"
   ]
  },
  {
   "cell_type": "code",
   "execution_count": 8,
   "metadata": {},
   "outputs": [],
   "source": [
    "\n",
    "def aggrefeature_engine(train_df,test_df,agg=False):\n",
    "    \n",
    "\n",
    "    train_fe = train_df.copy()\n",
    "    test_fe = test_df.copy()\n",
    "\n",
    "    if agg == True:\n",
    "\n",
    "        for col in cat_col:\n",
    "            train_fe,test_fe = creating_agg_features(train_fe,test_fe,col,'Habitability_score',time=True)\n",
    "\n",
    "        #print(\"shape of train data after feature engineering:\",train_fe.shape)\n",
    "        #print(\"shape of test data after feature engineering:\",test_fe.shape)\n",
    "    else:\n",
    "        pass\n",
    "\n",
    "\n",
    "    return train_fe,test_df"
   ]
  },
  {
   "cell_type": "markdown",
   "metadata": {},
   "source": [
    "#### Feature Encoding"
   ]
  },
  {
   "cell_type": "markdown",
   "metadata": {},
   "source": [
    "One hot encoding of categorical variables"
   ]
  },
  {
   "cell_type": "code",
   "execution_count": 9,
   "metadata": {},
   "outputs": [],
   "source": [
    "\n",
    "def ohe_scaling(train_df,test_df):\n",
    "    train_df['Dust_and_Noise'] = train_df['Dust_and_Noise'].map({'Low':0,'Medium':1,'High':2})\n",
    "    test_df['Dust_and_Noise'] = test_df['Dust_and_Noise'].map({'Low':0,'Medium':1,'High':2})\n",
    "\n",
    "\n",
    "    cat_col_ohe = list(set(cat_col)-{'Dust_and_Noise'})\n",
    "\n",
    "    df_combine = pd.concat([train_df,test_df],axis=0,ignore_index=True)\n",
    "    df_combine_fe = pd.get_dummies(df_combine,columns=cat_col_ohe,drop_first=False)\n",
    "\n",
    "\n",
    "    print(\"shape of combined data after one hot encoding:\",df_combine_fe.shape)\n",
    "\n",
    "    return df_combine_fe\n"
   ]
  },
  {
   "cell_type": "markdown",
   "metadata": {},
   "source": [
    "#### Train and Test Split"
   ]
  },
  {
   "cell_type": "code",
   "execution_count": 130,
   "metadata": {},
   "outputs": [],
   "source": [
    "def get_train_test(train_df,df_combine_fe,scaling=False,log_linear=False):\n",
    "\n",
    "\n",
    "    X_cols = list(set(df_combine_fe.columns) - {'Property_ID','Habitability_score'})\n",
    "    y_col = ['Habitability_score']\n",
    "\n",
    "    X = df_combine_fe.iloc[:len(train_df)][X_cols]\n",
    "    if log_linear:\n",
    "        y = np.log(df_combine_fe.iloc[:len(train_df)][y_col])\n",
    "    else:\n",
    "        y = df_combine_fe.iloc[:len(train_df)][y_col]\n",
    "\n",
    "    test_data= df_combine_fe.iloc[len(train_df):][X_cols]\n",
    "\n",
    "    X_train, X_test, y_train, y_test = train_test_split(X, y, test_size=0.10, random_state=42)\n",
    "\n",
    "    if scaling:\n",
    "        scaler = preprocessing.StandardScaler().fit(X_train)\n",
    "        X_train = scaler.transform(X_train)\n",
    "        X_test = scaler.transform(X_test)\n",
    "        test_data=scaler.transform(test_data)\n",
    "\n",
    "    return X_train, X_test, y_train, y_test,test_data,X,y"
   ]
  },
  {
   "cell_type": "markdown",
   "metadata": {},
   "source": [
    "### Data pipline"
   ]
  },
  {
   "cell_type": "code",
   "execution_count": 152,
   "metadata": {},
   "outputs": [
    {
     "name": "stdout",
     "output_type": "stream",
     "text": [
      "shape of combined data after one hot encoding: (49999, 93)\n",
      "train data matrix shape is : (35549, 91)\n",
      "train data y shape is :  (35549, 1)\n",
      "test data matrix shape is :  (3950, 91)\n",
      "train data y shape is :  (3950, 1)\n",
      "test data shape is:  (10500, 91)\n"
     ]
    }
   ],
   "source": [
    "train_df,test_df=read_data()\n",
    "train_df,test_df=treat_nans(train_df,test_df)\n",
    "train_df,test_df=feature_engine(train_df,test_df,set1=\"2\")\n",
    "\n",
    "train_df,test_df=aggrefeature_engine(train_df,test_df,agg=True)\n",
    "df_combined=ohe_scaling(train_df,test_df)\n",
    "\n",
    "X_train, X_test, y_train, y_test,test_data,X,y=get_train_test(train_df,df_combined,scaling=False)\n",
    "\n",
    "print(\"train data matrix shape is :\",X_train.shape)\n",
    "print(\"train data y shape is : \",y_train.shape)\n",
    "print(\"test data matrix shape is : \",X_test.shape)\n",
    "print(\"train data y shape is : \",y_test.shape)\n",
    "print(\"test data shape is: \",test_data.shape)\n"
   ]
  },
  {
   "cell_type": "code",
   "execution_count": 124,
   "metadata": {},
   "outputs": [],
   "source": [
    "def plot_error(y_actual,y_pred):\n",
    "    ax=sns.scatterplot(y_pred,y_actual['Habitability_score'].values)\n",
    "                \n",
    "    ax.set(xlabel='prediction', ylabel='actual')\n",
    "    plt.show()"
   ]
  },
  {
   "cell_type": "code",
   "execution_count": 127,
   "metadata": {},
   "outputs": [],
   "source": [
    "# model.fit(X,y)\n",
    "# test_pred = model.predict(test_data)\n",
    "# final_df=pd.DataFrame()\n",
    "# final_df['Property_ID'] = test_df['Property_ID']\n",
    "# final_df['Habitability_score']= test_pred\n",
    "#final_df.to_csv('submission_log.csv',index=False)"
   ]
  },
  {
   "cell_type": "markdown",
   "metadata": {},
   "source": [
    "#### Modelling"
   ]
  },
  {
   "cell_type": "markdown",
   "metadata": {},
   "source": [
    "### Xgb "
   ]
  },
  {
   "cell_type": "code",
   "execution_count": 116,
   "metadata": {},
   "outputs": [
    {
     "name": "stdout",
     "output_type": "stream",
     "text": [
      "Mean R2 Score is : 0.810 (0.008)\n",
      "R2_Score for test daata : 0.8123774182172075\n"
     ]
    }
   ],
   "source": [
    "model = XGBRegressor()\n",
    "# define model evaluation method\n",
    "cv = RepeatedKFold(n_splits=10, n_repeats=3, random_state=1)\n",
    "# evaluate model\n",
    "scores = cross_val_score(model, X_train, y_train, scoring='r2', cv=cv, n_jobs=-1)\n",
    "# force scores to be positive\n",
    "scores = absolute(scores)\n",
    "print('Mean R2 Score is : %.3f (%.3f)' % (scores.mean(), scores.std()) )\n",
    "model.fit(X_train,y_train)\n",
    "y_pred=model.predict(X_test)\n",
    "print(\"R2_Score for test daata :\",r2_score(y_test,y_pred))"
   ]
  },
  {
   "cell_type": "code",
   "execution_count": 125,
   "metadata": {},
   "outputs": [
    {
     "data": {
      "image/png": "[encoded data removed]",
      "text/plain": [
       "<Figure size 432x288 with 1 Axes>"
      ]
     },
     "metadata": {
      "needs_background": "light"
     },
     "output_type": "display_data"
    }
   ],
   "source": [
    "plot_error(y_test,y_pred)"
   ]
  },
  {
   "cell_type": "markdown",
   "metadata": {},
   "source": [
    "### With Tunning"
   ]
  },
  {
   "cell_type": "code",
   "execution_count": 153,
   "metadata": {},
   "outputs": [
    {
     "name": "stdout",
     "output_type": "stream",
     "text": [
      "Fitting 5 folds for each of 10 candidates, totalling 50 fits\n"
     ]
    }
   ],
   "source": [
    "params = { 'max_depth': [3, 5, 6, 10, 15, 20],\n",
    "          'learning_rate': [0.01, 0.1, 0.2, 0.3],\n",
    "          'subsample': np.arange(0.5, 1.0, 0.1),\n",
    "          'colsample_bytree': np.arange(0.4, 1.0, 0.1),\n",
    "          'colsample_bylevel': np.arange(0.4, 1.0, 0.1),\n",
    "          'n_estimators': [100, 500, 1000,1500,2000]}\n",
    "\n",
    "xgbreg = XGBRegressor()\n",
    "\n",
    "xgb_rscv = RandomizedSearchCV(estimator=xgbreg,\n",
    "                      cv=5,\n",
    "                      param_distributions=params,\n",
    "                      scoring=make_scorer(r2_score, greater_is_better=True),\n",
    "                      verbose=1,n_jobs=-1)\n",
    "\n",
    "\n",
    "xgb_rscv.fit(X_train, y_train)\n",
    "\n",
    "xgb_tunned= xgb_rscv.best_estimator_\n",
    "\n",
    "y_pred = xgb_tunned.predict(X_train)\n",
    "y_pred_tes =  xgb_tunned.predict(X_test)\n"
   ]
  },
  {
   "cell_type": "code",
   "execution_count": 154,
   "metadata": {},
   "outputs": [
    {
     "name": "stdout",
     "output_type": "stream",
     "text": [
      "train score: 0.9147610423332448\n",
      "test score: 0.8270368481896164\n"
     ]
    }
   ],
   "source": [
    "\n",
    "print(\"train score:\",r2_score(y_train,y_pred))\n",
    "print(\"test score:\",r2_score(y_test,np.round(np.ceil(y_pred_tes),2)))"
   ]
  },
  {
   "cell_type": "code",
   "execution_count": 156,
   "metadata": {},
   "outputs": [
    {
     "data": {
      "image/png": "[encoded data removed]",
      "text/plain": [
       "<Figure size 432x288 with 1 Axes>"
      ]
     },
     "metadata": {
      "needs_background": "light"
     },
     "output_type": "display_data"
    }
   ],
   "source": [
    "plot_error(y_test,y_pred_tes)"
   ]
  },
  {
   "cell_type": "markdown",
   "metadata": {},
   "source": [
    "### Gradient Boosting"
   ]
  },
  {
   "cell_type": "code",
   "execution_count": 157,
   "metadata": {},
   "outputs": [
    {
     "name": "stdout",
     "output_type": "stream",
     "text": [
      "Fitting 5 folds for each of 10 candidates, totalling 50 fits\n"
     ]
    },
    {
     "name": "stderr",
     "output_type": "stream",
     "text": [
      "/Users/rahularora/miniforge3/envs/mlp/lib/python3.9/site-packages/sklearn/ensemble/_gb.py:570: DataConversionWarning: A column-vector y was passed when a 1d array was expected. Please change the shape of y to (n_samples, ), for example using ravel().\n",
      "  y = column_or_1d(y, warn=True)\n",
      "/Users/rahularora/miniforge3/envs/mlp/lib/python3.9/site-packages/sklearn/ensemble/_gb.py:570: DataConversionWarning: A column-vector y was passed when a 1d array was expected. Please change the shape of y to (n_samples, ), for example using ravel().\n",
      "  y = column_or_1d(y, warn=True)\n",
      "/Users/rahularora/miniforge3/envs/mlp/lib/python3.9/site-packages/sklearn/ensemble/_gb.py:570: DataConversionWarning: A column-vector y was passed when a 1d array was expected. Please change the shape of y to (n_samples, ), for example using ravel().\n",
      "  y = column_or_1d(y, warn=True)\n",
      "/Users/rahularora/miniforge3/envs/mlp/lib/python3.9/site-packages/sklearn/ensemble/_gb.py:570: DataConversionWarning: A column-vector y was passed when a 1d array was expected. Please change the shape of y to (n_samples, ), for example using ravel().\n",
      "  y = column_or_1d(y, warn=True)\n",
      "/Users/rahularora/miniforge3/envs/mlp/lib/python3.9/site-packages/sklearn/ensemble/_gb.py:570: DataConversionWarning: A column-vector y was passed when a 1d array was expected. Please change the shape of y to (n_samples, ), for example using ravel().\n",
      "  y = column_or_1d(y, warn=True)\n",
      "/Users/rahularora/miniforge3/envs/mlp/lib/python3.9/site-packages/sklearn/ensemble/_gb.py:570: DataConversionWarning: A column-vector y was passed when a 1d array was expected. Please change the shape of y to (n_samples, ), for example using ravel().\n",
      "  y = column_or_1d(y, warn=True)\n",
      "/Users/rahularora/miniforge3/envs/mlp/lib/python3.9/site-packages/sklearn/ensemble/_gb.py:570: DataConversionWarning: A column-vector y was passed when a 1d array was expected. Please change the shape of y to (n_samples, ), for example using ravel().\n",
      "  y = column_or_1d(y, warn=True)\n",
      "/Users/rahularora/miniforge3/envs/mlp/lib/python3.9/site-packages/sklearn/ensemble/_gb.py:570: DataConversionWarning: A column-vector y was passed when a 1d array was expected. Please change the shape of y to (n_samples, ), for example using ravel().\n",
      "  y = column_or_1d(y, warn=True)\n",
      "/Users/rahularora/miniforge3/envs/mlp/lib/python3.9/site-packages/sklearn/ensemble/_gb.py:570: DataConversionWarning: A column-vector y was passed when a 1d array was expected. Please change the shape of y to (n_samples, ), for example using ravel().\n",
      "  y = column_or_1d(y, warn=True)\n",
      "/Users/rahularora/miniforge3/envs/mlp/lib/python3.9/site-packages/sklearn/ensemble/_gb.py:570: DataConversionWarning: A column-vector y was passed when a 1d array was expected. Please change the shape of y to (n_samples, ), for example using ravel().\n",
      "  y = column_or_1d(y, warn=True)\n",
      "/Users/rahularora/miniforge3/envs/mlp/lib/python3.9/site-packages/sklearn/ensemble/_gb.py:570: DataConversionWarning: A column-vector y was passed when a 1d array was expected. Please change the shape of y to (n_samples, ), for example using ravel().\n",
      "  y = column_or_1d(y, warn=True)\n",
      "/Users/rahularora/miniforge3/envs/mlp/lib/python3.9/site-packages/sklearn/ensemble/_gb.py:570: DataConversionWarning: A column-vector y was passed when a 1d array was expected. Please change the shape of y to (n_samples, ), for example using ravel().\n",
      "  y = column_or_1d(y, warn=True)\n",
      "/Users/rahularora/miniforge3/envs/mlp/lib/python3.9/site-packages/sklearn/ensemble/_gb.py:570: DataConversionWarning: A column-vector y was passed when a 1d array was expected. Please change the shape of y to (n_samples, ), for example using ravel().\n",
      "  y = column_or_1d(y, warn=True)\n",
      "/Users/rahularora/miniforge3/envs/mlp/lib/python3.9/site-packages/sklearn/ensemble/_gb.py:570: DataConversionWarning: A column-vector y was passed when a 1d array was expected. Please change the shape of y to (n_samples, ), for example using ravel().\n",
      "  y = column_or_1d(y, warn=True)\n",
      "/Users/rahularora/miniforge3/envs/mlp/lib/python3.9/site-packages/sklearn/ensemble/_gb.py:570: DataConversionWarning: A column-vector y was passed when a 1d array was expected. Please change the shape of y to (n_samples, ), for example using ravel().\n",
      "  y = column_or_1d(y, warn=True)\n",
      "/Users/rahularora/miniforge3/envs/mlp/lib/python3.9/site-packages/sklearn/ensemble/_gb.py:570: DataConversionWarning: A column-vector y was passed when a 1d array was expected. Please change the shape of y to (n_samples, ), for example using ravel().\n",
      "  y = column_or_1d(y, warn=True)\n",
      "/Users/rahularora/miniforge3/envs/mlp/lib/python3.9/site-packages/sklearn/ensemble/_gb.py:570: DataConversionWarning: A column-vector y was passed when a 1d array was expected. Please change the shape of y to (n_samples, ), for example using ravel().\n",
      "  y = column_or_1d(y, warn=True)\n",
      "/Users/rahularora/miniforge3/envs/mlp/lib/python3.9/site-packages/sklearn/ensemble/_gb.py:570: DataConversionWarning: A column-vector y was passed when a 1d array was expected. Please change the shape of y to (n_samples, ), for example using ravel().\n",
      "  y = column_or_1d(y, warn=True)\n",
      "/Users/rahularora/miniforge3/envs/mlp/lib/python3.9/site-packages/sklearn/ensemble/_gb.py:570: DataConversionWarning: A column-vector y was passed when a 1d array was expected. Please change the shape of y to (n_samples, ), for example using ravel().\n",
      "  y = column_or_1d(y, warn=True)\n",
      "/Users/rahularora/miniforge3/envs/mlp/lib/python3.9/site-packages/sklearn/ensemble/_gb.py:570: DataConversionWarning: A column-vector y was passed when a 1d array was expected. Please change the shape of y to (n_samples, ), for example using ravel().\n",
      "  y = column_or_1d(y, warn=True)\n",
      "/Users/rahularora/miniforge3/envs/mlp/lib/python3.9/site-packages/sklearn/ensemble/_gb.py:570: DataConversionWarning: A column-vector y was passed when a 1d array was expected. Please change the shape of y to (n_samples, ), for example using ravel().\n",
      "  y = column_or_1d(y, warn=True)\n",
      "/Users/rahularora/miniforge3/envs/mlp/lib/python3.9/site-packages/sklearn/ensemble/_gb.py:570: DataConversionWarning: A column-vector y was passed when a 1d array was expected. Please change the shape of y to (n_samples, ), for example using ravel().\n",
      "  y = column_or_1d(y, warn=True)\n",
      "/Users/rahularora/miniforge3/envs/mlp/lib/python3.9/site-packages/sklearn/ensemble/_gb.py:570: DataConversionWarning: A column-vector y was passed when a 1d array was expected. Please change the shape of y to (n_samples, ), for example using ravel().\n",
      "  y = column_or_1d(y, warn=True)\n",
      "/Users/rahularora/miniforge3/envs/mlp/lib/python3.9/site-packages/sklearn/ensemble/_gb.py:570: DataConversionWarning: A column-vector y was passed when a 1d array was expected. Please change the shape of y to (n_samples, ), for example using ravel().\n",
      "  y = column_or_1d(y, warn=True)\n",
      "/Users/rahularora/miniforge3/envs/mlp/lib/python3.9/site-packages/sklearn/ensemble/_gb.py:570: DataConversionWarning: A column-vector y was passed when a 1d array was expected. Please change the shape of y to (n_samples, ), for example using ravel().\n",
      "  y = column_or_1d(y, warn=True)\n",
      "/Users/rahularora/miniforge3/envs/mlp/lib/python3.9/site-packages/sklearn/ensemble/_gb.py:570: DataConversionWarning: A column-vector y was passed when a 1d array was expected. Please change the shape of y to (n_samples, ), for example using ravel().\n",
      "  y = column_or_1d(y, warn=True)\n",
      "/Users/rahularora/miniforge3/envs/mlp/lib/python3.9/site-packages/sklearn/ensemble/_gb.py:570: DataConversionWarning: A column-vector y was passed when a 1d array was expected. Please change the shape of y to (n_samples, ), for example using ravel().\n",
      "  y = column_or_1d(y, warn=True)\n",
      "/Users/rahularora/miniforge3/envs/mlp/lib/python3.9/site-packages/sklearn/ensemble/_gb.py:570: DataConversionWarning: A column-vector y was passed when a 1d array was expected. Please change the shape of y to (n_samples, ), for example using ravel().\n",
      "  y = column_or_1d(y, warn=True)\n",
      "/Users/rahularora/miniforge3/envs/mlp/lib/python3.9/site-packages/sklearn/ensemble/_gb.py:570: DataConversionWarning: A column-vector y was passed when a 1d array was expected. Please change the shape of y to (n_samples, ), for example using ravel().\n",
      "  y = column_or_1d(y, warn=True)\n",
      "/Users/rahularora/miniforge3/envs/mlp/lib/python3.9/site-packages/sklearn/ensemble/_gb.py:570: DataConversionWarning: A column-vector y was passed when a 1d array was expected. Please change the shape of y to (n_samples, ), for example using ravel().\n",
      "  y = column_or_1d(y, warn=True)\n",
      "/Users/rahularora/miniforge3/envs/mlp/lib/python3.9/site-packages/sklearn/ensemble/_gb.py:570: DataConversionWarning: A column-vector y was passed when a 1d array was expected. Please change the shape of y to (n_samples, ), for example using ravel().\n",
      "  y = column_or_1d(y, warn=True)\n",
      "/Users/rahularora/miniforge3/envs/mlp/lib/python3.9/site-packages/sklearn/ensemble/_gb.py:570: DataConversionWarning: A column-vector y was passed when a 1d array was expected. Please change the shape of y to (n_samples, ), for example using ravel().\n",
      "  y = column_or_1d(y, warn=True)\n",
      "/Users/rahularora/miniforge3/envs/mlp/lib/python3.9/site-packages/sklearn/ensemble/_gb.py:570: DataConversionWarning: A column-vector y was passed when a 1d array was expected. Please change the shape of y to (n_samples, ), for example using ravel().\n",
      "  y = column_or_1d(y, warn=True)\n",
      "/Users/rahularora/miniforge3/envs/mlp/lib/python3.9/site-packages/sklearn/ensemble/_gb.py:570: DataConversionWarning: A column-vector y was passed when a 1d array was expected. Please change the shape of y to (n_samples, ), for example using ravel().\n",
      "  y = column_or_1d(y, warn=True)\n",
      "/Users/rahularora/miniforge3/envs/mlp/lib/python3.9/site-packages/sklearn/ensemble/_gb.py:570: DataConversionWarning: A column-vector y was passed when a 1d array was expected. Please change the shape of y to (n_samples, ), for example using ravel().\n",
      "  y = column_or_1d(y, warn=True)\n",
      "/Users/rahularora/miniforge3/envs/mlp/lib/python3.9/site-packages/sklearn/ensemble/_gb.py:570: DataConversionWarning: A column-vector y was passed when a 1d array was expected. Please change the shape of y to (n_samples, ), for example using ravel().\n",
      "  y = column_or_1d(y, warn=True)\n",
      "/Users/rahularora/miniforge3/envs/mlp/lib/python3.9/site-packages/sklearn/ensemble/_gb.py:570: DataConversionWarning: A column-vector y was passed when a 1d array was expected. Please change the shape of y to (n_samples, ), for example using ravel().\n",
      "  y = column_or_1d(y, warn=True)\n",
      "/Users/rahularora/miniforge3/envs/mlp/lib/python3.9/site-packages/sklearn/ensemble/_gb.py:570: DataConversionWarning: A column-vector y was passed when a 1d array was expected. Please change the shape of y to (n_samples, ), for example using ravel().\n",
      "  y = column_or_1d(y, warn=True)\n",
      "/Users/rahularora/miniforge3/envs/mlp/lib/python3.9/site-packages/sklearn/ensemble/_gb.py:570: DataConversionWarning: A column-vector y was passed when a 1d array was expected. Please change the shape of y to (n_samples, ), for example using ravel().\n",
      "  y = column_or_1d(y, warn=True)\n",
      "/Users/rahularora/miniforge3/envs/mlp/lib/python3.9/site-packages/sklearn/ensemble/_gb.py:570: DataConversionWarning: A column-vector y was passed when a 1d array was expected. Please change the shape of y to (n_samples, ), for example using ravel().\n",
      "  y = column_or_1d(y, warn=True)\n",
      "/Users/rahularora/miniforge3/envs/mlp/lib/python3.9/site-packages/sklearn/ensemble/_gb.py:570: DataConversionWarning: A column-vector y was passed when a 1d array was expected. Please change the shape of y to (n_samples, ), for example using ravel().\n",
      "  y = column_or_1d(y, warn=True)\n",
      "/Users/rahularora/miniforge3/envs/mlp/lib/python3.9/site-packages/sklearn/ensemble/_gb.py:570: DataConversionWarning: A column-vector y was passed when a 1d array was expected. Please change the shape of y to (n_samples, ), for example using ravel().\n",
      "  y = column_or_1d(y, warn=True)\n",
      "/Users/rahularora/miniforge3/envs/mlp/lib/python3.9/site-packages/sklearn/ensemble/_gb.py:570: DataConversionWarning: A column-vector y was passed when a 1d array was expected. Please change the shape of y to (n_samples, ), for example using ravel().\n",
      "  y = column_or_1d(y, warn=True)\n",
      "/Users/rahularora/miniforge3/envs/mlp/lib/python3.9/site-packages/sklearn/ensemble/_gb.py:570: DataConversionWarning: A column-vector y was passed when a 1d array was expected. Please change the shape of y to (n_samples, ), for example using ravel().\n",
      "  y = column_or_1d(y, warn=True)\n",
      "/Users/rahularora/miniforge3/envs/mlp/lib/python3.9/site-packages/sklearn/ensemble/_gb.py:570: DataConversionWarning: A column-vector y was passed when a 1d array was expected. Please change the shape of y to (n_samples, ), for example using ravel().\n",
      "  y = column_or_1d(y, warn=True)\n",
      "/Users/rahularora/miniforge3/envs/mlp/lib/python3.9/site-packages/sklearn/ensemble/_gb.py:570: DataConversionWarning: A column-vector y was passed when a 1d array was expected. Please change the shape of y to (n_samples, ), for example using ravel().\n",
      "  y = column_or_1d(y, warn=True)\n",
      "/Users/rahularora/miniforge3/envs/mlp/lib/python3.9/site-packages/sklearn/ensemble/_gb.py:570: DataConversionWarning: A column-vector y was passed when a 1d array was expected. Please change the shape of y to (n_samples, ), for example using ravel().\n",
      "  y = column_or_1d(y, warn=True)\n",
      "/Users/rahularora/miniforge3/envs/mlp/lib/python3.9/site-packages/sklearn/ensemble/_gb.py:570: DataConversionWarning: A column-vector y was passed when a 1d array was expected. Please change the shape of y to (n_samples, ), for example using ravel().\n",
      "  y = column_or_1d(y, warn=True)\n",
      "/Users/rahularora/miniforge3/envs/mlp/lib/python3.9/site-packages/sklearn/ensemble/_gb.py:570: DataConversionWarning: A column-vector y was passed when a 1d array was expected. Please change the shape of y to (n_samples, ), for example using ravel().\n",
      "  y = column_or_1d(y, warn=True)\n",
      "/Users/rahularora/miniforge3/envs/mlp/lib/python3.9/site-packages/sklearn/ensemble/_gb.py:570: DataConversionWarning: A column-vector y was passed when a 1d array was expected. Please change the shape of y to (n_samples, ), for example using ravel().\n",
      "  y = column_or_1d(y, warn=True)\n"
     ]
    },
    {
     "name": "stdout",
     "output_type": "stream",
     "text": [
      "train score: 0.8623868093722021\n",
      "train score: 0.8185676328868351\n"
     ]
    }
   ],
   "source": [
    "params = { 'max_depth': [3, 5, 6, 10, 15, 20],\n",
    "          'learning_rate': [0.01, 0.1, 0.2, 0.3],\n",
    "          'subsample': np.arange(0.5, 1.0, 0.1),\n",
    "          'n_estimators': [100, 500, 1000,1500,2000]}\n",
    "\n",
    "gbreg = GradientBoostingRegressor()\n",
    "\n",
    "gb_rscv = RandomizedSearchCV(estimator=gbreg,\n",
    "                      cv=5,\n",
    "                      param_distributions=params,\n",
    "                      scoring=make_scorer(r2_score, greater_is_better=True),\n",
    "                      verbose=1,n_jobs=-1)\n",
    "\n",
    "\n",
    "gb_rscv.fit(X_train, y_train)\n",
    "\n",
    "gb_tunned= gb_rscv.best_estimator_\n",
    "\n",
    "y_pred = gb_tunned.predict(X_train)\n",
    "y_pred_tes =  gb_tunned.predict(X_test)\n",
    "print(\"train score:\",r2_score(y_train,y_pred))\n",
    "print(\"train score:\",r2_score(y_test,y_pred_tes))"
   ]
  },
  {
   "cell_type": "code",
   "execution_count": 158,
   "metadata": {},
   "outputs": [],
   "source": [
    "from sklearn.ensemble import ExtraTreesRegressor\n",
    "exreg = ExtraTreesRegressor().fit(X_train, y_train)\n",
    "\n",
    "y_tes = exreg.predict(X_test)\n"
   ]
  },
  {
   "cell_type": "code",
   "execution_count": 160,
   "metadata": {},
   "outputs": [
    {
     "data": {
      "text/plain": [
       "0.8087325529622609"
      ]
     },
     "execution_count": 160,
     "metadata": {},
     "output_type": "execute_result"
    }
   ],
   "source": [
    "r2_score(y_test,y_tes)"
   ]
  },
  {
   "cell_type": "markdown",
   "metadata": {},
   "source": [
    "### Stacking"
   ]
  },
  {
   "cell_type": "code",
   "execution_count": 161,
   "metadata": {},
   "outputs": [],
   "source": [
    "lasso = Lasso(alpha=0.05, random_state = 1,max_iter=100)\n",
    "\n",
    "ENet = ElasticNet(alpha = 0.05, l1_ratio=0.9, random_state = 3,max_iter=100)\n",
    "\n",
    "GBoost = GradientBoostingRegressor(n_estimators = 100,learning_rate=0.05,\n",
    "                                   max_depth = 10, random_state=5)\n",
    "\n",
    "model_rf = RandomForestRegressor(max_depth=17,n_estimators=100)\n",
    "\n",
    "xgb =  xgb_tunned\n",
    "\n",
    "exr  = ExtraTreesRegressor()\n",
    "\n",
    "lightgbm = lgb.LGBMRegressor()\n"
   ]
  },
  {
   "cell_type": "code",
   "execution_count": 162,
   "metadata": {},
   "outputs": [
    {
     "name": "stdout",
     "output_type": "stream",
     "text": [
      "Lasso(alpha=0.05, max_iter=100, random_state=1)\n",
      "0.5948952589940861\n",
      "ElasticNet(alpha=0.05, l1_ratio=0.9, max_iter=100, random_state=3)\n",
      "0.5949031289557895\n",
      "GradientBoostingRegressor(learning_rate=0.05, max_depth=10, random_state=5)\n",
      "0.8211543793471849\n",
      "RandomForestRegressor(max_depth=17)\n",
      "0.8245349118740545\n",
      "XGBRegressor(base_score=0.5, booster='gbtree', callbacks=None,\n",
      "             colsample_bylevel=0.8999999999999999, colsample_bynode=1,\n",
      "             colsample_bytree=0.8999999999999999, early_stopping_rounds=None,\n",
      "             enable_categorical=False, eval_metric=None, gamma=0, gpu_id=-1,\n",
      "             grow_policy='depthwise', importance_type=None,\n",
      "             interaction_constraints='', learning_rate=0.01, max_bin=256,\n",
      "             max_cat_to_onehot=4, max_delta_step=0, max_depth=10, max_leaves=0,\n",
      "             min_child_weight=1, missing=nan, monotone_constraints='()',\n",
      "             n_estimators=1000, n_jobs=0, num_parallel_tree=1, predictor='auto',\n",
      "             random_state=0, reg_alpha=0, reg_lambda=1, ...)\n",
      "0.8286558034413682\n",
      "LGBMRegressor()\n",
      "0.8161360005853223\n",
      "ExtraTreesRegressor()\n",
      "0.8084964046263217\n"
     ]
    }
   ],
   "source": [
    "models = [lasso,ENet,GBoost,model_rf,xgb,lightgbm,exr]\n",
    "scores={}\n",
    "for model in models:\n",
    "    print(model)\n",
    "    model.fit(X_train,y_train)\n",
    "    tr_pred = model.predict(X_test)\n",
    "    scores[model] = r2_score(y_test,tr_pred)\n",
    "    print(scores[model])"
   ]
  },
  {
   "cell_type": "code",
   "execution_count": 163,
   "metadata": {},
   "outputs": [],
   "source": [
    "class StackingAveragedModels(BaseEstimator, RegressorMixin, TransformerMixin):\n",
    "    def __init__(self, base_models, meta_model, n_folds=3):\n",
    "        self.base_models = base_models\n",
    "        self.meta_model = meta_model\n",
    "        self.n_folds = n_folds\n",
    "   \n",
    "    # We again fit the data on clones of the original models\n",
    "    def fit(self, X, y):\n",
    "        self.base_models_ = [list() for x in self.base_models]\n",
    "        self.meta_model_ = clone(self.meta_model)\n",
    "        kfold = KFold(n_splits=self.n_folds, shuffle=True, random_state=156)\n",
    "        \n",
    "        # Train cloned base models then create out-of-fold predictions\n",
    "        # that are needed to train the cloned meta-model\n",
    "        out_of_fold_predictions = np.zeros((X.shape[0], len(self.base_models)))\n",
    "        \n",
    "        for i, model in enumerate(self.base_models):\n",
    "            for train_index, holdout_index in kfold.split(X, y):\n",
    "                instance = clone(model)\n",
    "                self.base_models_[i].append(instance)\n",
    "                instance.fit(X.iloc[train_index], y.iloc[train_index])\n",
    "                y_pred = instance.predict(X.iloc[holdout_index])\n",
    "                out_of_fold_predictions[holdout_index, i] = y_pred\n",
    "                \n",
    "        # Now train the cloned  meta-model using the out-of-fold predictions as new feature\n",
    "        self.meta_model_.fit(out_of_fold_predictions, y)\n",
    "        return self\n",
    "   \n",
    "    #Do the predictions of all base models on the test data and use the averaged predictions as \n",
    "    #meta-features for the final prediction which is done by the meta-model\n",
    "    def predict(self, X):\n",
    "        meta_features = np.column_stack([\n",
    "            np.column_stack([model.predict(X) for model in base_models]).mean(axis=1)\n",
    "            for base_models in self.base_models_ ])\n",
    "        return self.meta_model_.predict(meta_features)"
   ]
  },
  {
   "cell_type": "code",
   "execution_count": 164,
   "metadata": {},
   "outputs": [
    {
     "name": "stdout",
     "output_type": "stream",
     "text": [
      "0.9072491099131763\n"
     ]
    }
   ],
   "source": [
    "stacked_averaged_models = StackingAveragedModels(base_models = (ENet, GBoost, model_rf),\n",
    "                                                 meta_model = lasso)\n",
    "\n",
    "\n",
    "stacked_averaged_models.fit(X_train, y_train)\n",
    "\n",
    "stacked_train_pred = stacked_averaged_models.predict(X_train)\n",
    "\n",
    "#stacked_pred = np.expm1(stacked_averaged_models.predict(test_df))\n",
    "print(r2_score(y_train, stacked_train_pred))"
   ]
  },
  {
   "cell_type": "code",
   "execution_count": 166,
   "metadata": {},
   "outputs": [
    {
     "name": "stdout",
     "output_type": "stream",
     "text": [
      "0.8279731852255762\n"
     ]
    }
   ],
   "source": [
    "stacked_test_pred = stacked_averaged_models.predict(X_test.reset_index(drop=True))\n",
    "\n",
    "#stacked_pred = np.expm1(stacked_averaged_models.predict(test_df))\n",
    "print(r2_score(y_test, stacked_test_pred))"
   ]
  },
  {
   "cell_type": "code",
   "execution_count": 62,
   "metadata": {},
   "outputs": [
    {
     "data": {
      "text/html": [
       "<style>#sk-container-id-3 {color: black;background-color: white;}#sk-container-id-3 pre{padding: 0;}#sk-container-id-3 div.sk-toggleable {background-color: white;}#sk-container-id-3 label.sk-toggleable__label {cursor: pointer;display: block;width: 100%;margin-bottom: 0;padding: 0.3em;box-sizing: border-box;text-align: center;}#sk-container-id-3 label.sk-toggleable__label-arrow:before {content: \"▸\";float: left;margin-right: 0.25em;color: #696969;}#sk-container-id-3 label.sk-toggleable__label-arrow:hover:before {color: black;}#sk-container-id-3 div.sk-estimator:hover label.sk-toggleable__label-arrow:before {color: black;}#sk-container-id-3 div.sk-toggleable__content {max-height: 0;max-width: 0;overflow: hidden;text-align: left;background-color: #f0f8ff;}#sk-container-id-3 div.sk-toggleable__content pre {margin: 0.2em;color: black;border-radius: 0.25em;background-color: #f0f8ff;}#sk-container-id-3 input.sk-toggleable__control:checked~div.sk-toggleable__content {max-height: 200px;max-width: 100%;overflow: auto;}#sk-container-id-3 input.sk-toggleable__control:checked~label.sk-toggleable__label-arrow:before {content: \"▾\";}#sk-container-id-3 div.sk-estimator input.sk-toggleable__control:checked~label.sk-toggleable__label {background-color: #d4ebff;}#sk-container-id-3 div.sk-label input.sk-toggleable__control:checked~label.sk-toggleable__label {background-color: #d4ebff;}#sk-container-id-3 input.sk-hidden--visually {border: 0;clip: rect(1px 1px 1px 1px);clip: rect(1px, 1px, 1px, 1px);height: 1px;margin: -1px;overflow: hidden;padding: 0;position: absolute;width: 1px;}#sk-container-id-3 div.sk-estimator {font-family: monospace;background-color: #f0f8ff;border: 1px dotted black;border-radius: 0.25em;box-sizing: border-box;margin-bottom: 0.5em;}#sk-container-id-3 div.sk-estimator:hover {background-color: #d4ebff;}#sk-container-id-3 div.sk-parallel-item::after {content: \"\";width: 100%;border-bottom: 1px solid gray;flex-grow: 1;}#sk-container-id-3 div.sk-label:hover label.sk-toggleable__label {background-color: #d4ebff;}#sk-container-id-3 div.sk-serial::before {content: \"\";position: absolute;border-left: 1px solid gray;box-sizing: border-box;top: 0;bottom: 0;left: 50%;z-index: 0;}#sk-container-id-3 div.sk-serial {display: flex;flex-direction: column;align-items: center;background-color: white;padding-right: 0.2em;padding-left: 0.2em;position: relative;}#sk-container-id-3 div.sk-item {position: relative;z-index: 1;}#sk-container-id-3 div.sk-parallel {display: flex;align-items: stretch;justify-content: center;background-color: white;position: relative;}#sk-container-id-3 div.sk-item::before, #sk-container-id-3 div.sk-parallel-item::before {content: \"\";position: absolute;border-left: 1px solid gray;box-sizing: border-box;top: 0;bottom: 0;left: 50%;z-index: -1;}#sk-container-id-3 div.sk-parallel-item {display: flex;flex-direction: column;z-index: 1;position: relative;background-color: white;}#sk-container-id-3 div.sk-parallel-item:first-child::after {align-self: flex-end;width: 50%;}#sk-container-id-3 div.sk-parallel-item:last-child::after {align-self: flex-start;width: 50%;}#sk-container-id-3 div.sk-parallel-item:only-child::after {width: 0;}#sk-container-id-3 div.sk-dashed-wrapped {border: 1px dashed gray;margin: 0 0.4em 0.5em 0.4em;box-sizing: border-box;padding-bottom: 0.4em;background-color: white;}#sk-container-id-3 div.sk-label label {font-family: monospace;font-weight: bold;display: inline-block;line-height: 1.2em;}#sk-container-id-3 div.sk-label-container {text-align: center;}#sk-container-id-3 div.sk-container {/* jupyter's `normalize.less` sets `[hidden] { display: none; }` but bootstrap.min.css set `[hidden] { display: none !important; }` so we also need the `!important` here to be able to override the default hidden behavior on the sphinx rendered scikit-learn.org. See: https://github.com/scikit-learn/scikit-learn/issues/21755 */display: inline-block !important;position: relative;}#sk-container-id-3 div.sk-text-repr-fallback {display: none;}</style><div id=\"sk-container-id-3\" class=\"sk-top-container\"><div class=\"sk-text-repr-fallback\"><pre>StackingAveragedModels(base_models=(ElasticNet(alpha=0.0005, l1_ratio=0.9,\n",
       "                                               max_iter=100, random_state=3),\n",
       "                                    GradientBoostingRegressor(learning_rate=0.05,\n",
       "                                                              max_depth=10,\n",
       "                                                              random_state=5),\n",
       "                                    RandomForestRegressor(max_depth=17)),\n",
       "                       meta_model=Lasso(alpha=0.0005, max_iter=100,\n",
       "                                        random_state=1))</pre><b>In a Jupyter environment, please rerun this cell to show the HTML representation or trust the notebook. <br />On GitHub, the HTML representation is unable to render, please try loading this page with nbviewer.org.</b></div><div class=\"sk-container\" hidden><div class=\"sk-item sk-dashed-wrapped\"><div class=\"sk-label-container\"><div class=\"sk-label sk-toggleable\"><input class=\"sk-toggleable__control sk-hidden--visually\" id=\"sk-estimator-id-5\" type=\"checkbox\" ><label for=\"sk-estimator-id-5\" class=\"sk-toggleable__label sk-toggleable__label-arrow\">StackingAveragedModels</label><div class=\"sk-toggleable__content\"><pre>StackingAveragedModels(base_models=(ElasticNet(alpha=0.0005, l1_ratio=0.9,\n",
       "                                               max_iter=100, random_state=3),\n",
       "                                    GradientBoostingRegressor(learning_rate=0.05,\n",
       "                                                              max_depth=10,\n",
       "                                                              random_state=5),\n",
       "                                    RandomForestRegressor(max_depth=17)),\n",
       "                       meta_model=Lasso(alpha=0.0005, max_iter=100,\n",
       "                                        random_state=1))</pre></div></div></div><div class=\"sk-parallel\"><div class=\"sk-parallel-item\"><div class=\"sk-item\"><div class=\"sk-label-container\"><div class=\"sk-label sk-toggleable\"><input class=\"sk-toggleable__control sk-hidden--visually\" id=\"sk-estimator-id-6\" type=\"checkbox\" ><label for=\"sk-estimator-id-6\" class=\"sk-toggleable__label sk-toggleable__label-arrow\">meta_model: Lasso</label><div class=\"sk-toggleable__content\"><pre>Lasso(alpha=0.0005, max_iter=100, random_state=1)</pre></div></div></div><div class=\"sk-serial\"><div class=\"sk-item\"><div class=\"sk-estimator sk-toggleable\"><input class=\"sk-toggleable__control sk-hidden--visually\" id=\"sk-estimator-id-7\" type=\"checkbox\" ><label for=\"sk-estimator-id-7\" class=\"sk-toggleable__label sk-toggleable__label-arrow\">Lasso</label><div class=\"sk-toggleable__content\"><pre>Lasso(alpha=0.0005, max_iter=100, random_state=1)</pre></div></div></div></div></div></div></div></div></div></div>"
      ],
      "text/plain": [
       "StackingAveragedModels(base_models=(ElasticNet(alpha=0.0005, l1_ratio=0.9,\n",
       "                                               max_iter=100, random_state=3),\n",
       "                                    GradientBoostingRegressor(learning_rate=0.05,\n",
       "                                                              max_depth=10,\n",
       "                                                              random_state=5),\n",
       "                                    RandomForestRegressor(max_depth=17)),\n",
       "                       meta_model=Lasso(alpha=0.0005, max_iter=100,\n",
       "                                        random_state=1))"
      ]
     },
     "execution_count": 62,
     "metadata": {},
     "output_type": "execute_result"
    }
   ],
   "source": [
    "stacked_averaged_models.fit(X,y)"
   ]
  },
  {
   "cell_type": "code",
   "execution_count": 63,
   "metadata": {},
   "outputs": [],
   "source": [
    "\n",
    "test_pred = stacked_averaged_models.predict(test_data)\n",
    "final_df=pd.DataFrame()\n",
    "final_df['Property_ID'] = test_df['Property_ID']\n",
    "final_df['Habitability_score']= np.exp(test_pred)"
   ]
  },
  {
   "cell_type": "code",
   "execution_count": 169,
   "metadata": {},
   "outputs": [
    {
     "data": {
      "text/plain": [
       "Crime_Rate_max                  10500\n",
       "power_backup_yes                    0\n",
       "Dust_and_Noise                      0\n",
       "Water_Supply_All time               0\n",
       "nr_greater_than_3                   0\n",
       "                                ...  \n",
       "Traffic_Density_Score               0\n",
       "Property_Type_Container Home        0\n",
       "Property_Type_median            10500\n",
       "Property_Area                       0\n",
       "Dust_and_Noise_99th             10500\n",
       "Length: 91, dtype: int64"
      ]
     },
     "execution_count": 169,
     "metadata": {},
     "output_type": "execute_result"
    }
   ],
   "source": [
    "test_data.isna().sum()"
   ]
  },
  {
   "cell_type": "code",
   "execution_count": 168,
   "metadata": {},
   "outputs": [
    {
     "ename": "ValueError",
     "evalue": "Input X contains NaN.\nGradientBoostingRegressor does not accept missing values encoded as NaN natively. For supervised learning, you might want to consider sklearn.ensemble.HistGradientBoostingClassifier and Regressor which accept missing values encoded as NaNs natively. Alternatively, it is possible to preprocess the data, for instance by using an imputer transformer in a pipeline or drop samples with missing values. See https://scikit-learn.org/stable/modules/impute.html You can find a list of all estimators that handle NaN values at the following page: https://scikit-learn.org/stable/modules/impute.html#estimators-that-handle-nan-values",
     "output_type": "error",
     "traceback": [
      "\u001b[0;31m---------------------------------------------------------------------------\u001b[0m",
      "\u001b[0;31mValueError\u001b[0m                                Traceback (most recent call last)",
      "\u001b[1;32m/Users/rahularora/Downloads/dataset/eda.ipynb Cell 69\u001b[0m in \u001b[0;36m<cell line: 3>\u001b[0;34m()\u001b[0m\n\u001b[1;32m      <a href='vscode-notebook-cell:/Users/rahularora/Downloads/dataset/eda.ipynb#Y300sZmlsZQ%3D%3D?line=0'>1</a>\u001b[0m \u001b[39m# y1=stacked_averaged_models.predict(test_data)\u001b[39;00m\n\u001b[0;32m----> <a href='vscode-notebook-cell:/Users/rahularora/Downloads/dataset/eda.ipynb#Y300sZmlsZQ%3D%3D?line=2'>3</a>\u001b[0m y2\u001b[39m=\u001b[39mgb_tunned\u001b[39m.\u001b[39;49mpredict(test_data)\n\u001b[1;32m      <a href='vscode-notebook-cell:/Users/rahularora/Downloads/dataset/eda.ipynb#Y300sZmlsZQ%3D%3D?line=4'>5</a>\u001b[0m y3\u001b[39m=\u001b[39m xgb_tunned\u001b[39m.\u001b[39mpredict(test_data)\n",
      "File \u001b[0;32m~/miniforge3/envs/mlp/lib/python3.9/site-packages/sklearn/ensemble/_gb.py:1963\u001b[0m, in \u001b[0;36mGradientBoostingRegressor.predict\u001b[0;34m(self, X)\u001b[0m\n\u001b[1;32m   1948\u001b[0m \u001b[39mdef\u001b[39;00m \u001b[39mpredict\u001b[39m(\u001b[39mself\u001b[39m, X):\n\u001b[1;32m   1949\u001b[0m     \u001b[39m\"\"\"Predict regression target for X.\u001b[39;00m\n\u001b[1;32m   1950\u001b[0m \n\u001b[1;32m   1951\u001b[0m \u001b[39m    Parameters\u001b[39;00m\n\u001b[0;32m   (...)\u001b[0m\n\u001b[1;32m   1961\u001b[0m \u001b[39m        The predicted values.\u001b[39;00m\n\u001b[1;32m   1962\u001b[0m \u001b[39m    \"\"\"\u001b[39;00m\n\u001b[0;32m-> 1963\u001b[0m     X \u001b[39m=\u001b[39m \u001b[39mself\u001b[39;49m\u001b[39m.\u001b[39;49m_validate_data(\n\u001b[1;32m   1964\u001b[0m         X, dtype\u001b[39m=\u001b[39;49mDTYPE, order\u001b[39m=\u001b[39;49m\u001b[39m\"\u001b[39;49m\u001b[39mC\u001b[39;49m\u001b[39m\"\u001b[39;49m, accept_sparse\u001b[39m=\u001b[39;49m\u001b[39m\"\u001b[39;49m\u001b[39mcsr\u001b[39;49m\u001b[39m\"\u001b[39;49m, reset\u001b[39m=\u001b[39;49m\u001b[39mFalse\u001b[39;49;00m\n\u001b[1;32m   1965\u001b[0m     )\n\u001b[1;32m   1966\u001b[0m     \u001b[39m# In regression we can directly return the raw value from the trees.\u001b[39;00m\n\u001b[1;32m   1967\u001b[0m     \u001b[39mreturn\u001b[39;00m \u001b[39mself\u001b[39m\u001b[39m.\u001b[39m_raw_predict(X)\u001b[39m.\u001b[39mravel()\n",
      "File \u001b[0;32m~/miniforge3/envs/mlp/lib/python3.9/site-packages/sklearn/base.py:577\u001b[0m, in \u001b[0;36mBaseEstimator._validate_data\u001b[0;34m(self, X, y, reset, validate_separately, **check_params)\u001b[0m\n\u001b[1;32m    575\u001b[0m     \u001b[39mraise\u001b[39;00m \u001b[39mValueError\u001b[39;00m(\u001b[39m\"\u001b[39m\u001b[39mValidation should be done on X, y or both.\u001b[39m\u001b[39m\"\u001b[39m)\n\u001b[1;32m    576\u001b[0m \u001b[39melif\u001b[39;00m \u001b[39mnot\u001b[39;00m no_val_X \u001b[39mand\u001b[39;00m no_val_y:\n\u001b[0;32m--> 577\u001b[0m     X \u001b[39m=\u001b[39m check_array(X, input_name\u001b[39m=\u001b[39;49m\u001b[39m\"\u001b[39;49m\u001b[39mX\u001b[39;49m\u001b[39m\"\u001b[39;49m, \u001b[39m*\u001b[39;49m\u001b[39m*\u001b[39;49mcheck_params)\n\u001b[1;32m    578\u001b[0m     out \u001b[39m=\u001b[39m X\n\u001b[1;32m    579\u001b[0m \u001b[39melif\u001b[39;00m no_val_X \u001b[39mand\u001b[39;00m \u001b[39mnot\u001b[39;00m no_val_y:\n",
      "File \u001b[0;32m~/miniforge3/envs/mlp/lib/python3.9/site-packages/sklearn/utils/validation.py:899\u001b[0m, in \u001b[0;36mcheck_array\u001b[0;34m(array, accept_sparse, accept_large_sparse, dtype, order, copy, force_all_finite, ensure_2d, allow_nd, ensure_min_samples, ensure_min_features, estimator, input_name)\u001b[0m\n\u001b[1;32m    893\u001b[0m         \u001b[39mraise\u001b[39;00m \u001b[39mValueError\u001b[39;00m(\n\u001b[1;32m    894\u001b[0m             \u001b[39m\"\u001b[39m\u001b[39mFound array with dim \u001b[39m\u001b[39m%d\u001b[39;00m\u001b[39m. \u001b[39m\u001b[39m%s\u001b[39;00m\u001b[39m expected <= 2.\u001b[39m\u001b[39m\"\u001b[39m\n\u001b[1;32m    895\u001b[0m             \u001b[39m%\u001b[39m (array\u001b[39m.\u001b[39mndim, estimator_name)\n\u001b[1;32m    896\u001b[0m         )\n\u001b[1;32m    898\u001b[0m     \u001b[39mif\u001b[39;00m force_all_finite:\n\u001b[0;32m--> 899\u001b[0m         _assert_all_finite(\n\u001b[1;32m    900\u001b[0m             array,\n\u001b[1;32m    901\u001b[0m             input_name\u001b[39m=\u001b[39;49minput_name,\n\u001b[1;32m    902\u001b[0m             estimator_name\u001b[39m=\u001b[39;49mestimator_name,\n\u001b[1;32m    903\u001b[0m             allow_nan\u001b[39m=\u001b[39;49mforce_all_finite \u001b[39m==\u001b[39;49m \u001b[39m\"\u001b[39;49m\u001b[39mallow-nan\u001b[39;49m\u001b[39m\"\u001b[39;49m,\n\u001b[1;32m    904\u001b[0m         )\n\u001b[1;32m    906\u001b[0m \u001b[39mif\u001b[39;00m ensure_min_samples \u001b[39m>\u001b[39m \u001b[39m0\u001b[39m:\n\u001b[1;32m    907\u001b[0m     n_samples \u001b[39m=\u001b[39m _num_samples(array)\n",
      "File \u001b[0;32m~/miniforge3/envs/mlp/lib/python3.9/site-packages/sklearn/utils/validation.py:146\u001b[0m, in \u001b[0;36m_assert_all_finite\u001b[0;34m(X, allow_nan, msg_dtype, estimator_name, input_name)\u001b[0m\n\u001b[1;32m    124\u001b[0m         \u001b[39mif\u001b[39;00m (\n\u001b[1;32m    125\u001b[0m             \u001b[39mnot\u001b[39;00m allow_nan\n\u001b[1;32m    126\u001b[0m             \u001b[39mand\u001b[39;00m estimator_name\n\u001b[0;32m   (...)\u001b[0m\n\u001b[1;32m    130\u001b[0m             \u001b[39m# Improve the error message on how to handle missing values in\u001b[39;00m\n\u001b[1;32m    131\u001b[0m             \u001b[39m# scikit-learn.\u001b[39;00m\n\u001b[1;32m    132\u001b[0m             msg_err \u001b[39m+\u001b[39m\u001b[39m=\u001b[39m (\n\u001b[1;32m    133\u001b[0m                 \u001b[39mf\u001b[39m\u001b[39m\"\u001b[39m\u001b[39m\\n\u001b[39;00m\u001b[39m{\u001b[39;00mestimator_name\u001b[39m}\u001b[39;00m\u001b[39m does not accept missing values\u001b[39m\u001b[39m\"\u001b[39m\n\u001b[1;32m    134\u001b[0m                 \u001b[39m\"\u001b[39m\u001b[39m encoded as NaN natively. For supervised learning, you might want\u001b[39m\u001b[39m\"\u001b[39m\n\u001b[0;32m   (...)\u001b[0m\n\u001b[1;32m    144\u001b[0m                 \u001b[39m\"\u001b[39m\u001b[39m#estimators-that-handle-nan-values\u001b[39m\u001b[39m\"\u001b[39m\n\u001b[1;32m    145\u001b[0m             )\n\u001b[0;32m--> 146\u001b[0m         \u001b[39mraise\u001b[39;00m \u001b[39mValueError\u001b[39;00m(msg_err)\n\u001b[1;32m    148\u001b[0m \u001b[39m# for object dtype data, we only check for NaNs (GH-13254)\u001b[39;00m\n\u001b[1;32m    149\u001b[0m \u001b[39melif\u001b[39;00m X\u001b[39m.\u001b[39mdtype \u001b[39m==\u001b[39m np\u001b[39m.\u001b[39mdtype(\u001b[39m\"\u001b[39m\u001b[39mobject\u001b[39m\u001b[39m\"\u001b[39m) \u001b[39mand\u001b[39;00m \u001b[39mnot\u001b[39;00m allow_nan:\n",
      "\u001b[0;31mValueError\u001b[0m: Input X contains NaN.\nGradientBoostingRegressor does not accept missing values encoded as NaN natively. For supervised learning, you might want to consider sklearn.ensemble.HistGradientBoostingClassifier and Regressor which accept missing values encoded as NaNs natively. Alternatively, it is possible to preprocess the data, for instance by using an imputer transformer in a pipeline or drop samples with missing values. See https://scikit-learn.org/stable/modules/impute.html You can find a list of all estimators that handle NaN values at the following page: https://scikit-learn.org/stable/modules/impute.html#estimators-that-handle-nan-values"
     ]
    }
   ],
   "source": [
    "# y1=stacked_averaged_models.predict(test_data)\n",
    "\n",
    "y2=gb_tunned.predict(test_data)\n",
    "\n",
    "y3= xgb_tunned.predict(test_data)"
   ]
  },
  {
   "cell_type": "code",
   "execution_count": 64,
   "metadata": {},
   "outputs": [],
   "source": [
    "final_df.to_csv('submission_stack2.csv',index=False)"
   ]
  },
  {
   "cell_type": "markdown",
   "metadata": {},
   "source": [
    "### Deep Learning"
   ]
  },
  {
   "cell_type": "code",
   "execution_count": 1,
   "metadata": {},
   "outputs": [
    {
     "name": "stdout",
     "output_type": "stream",
     "text": [
      "2.9.2\n"
     ]
    }
   ],
   "source": [
    "import tensorflow as tf\n",
    "\n",
    "from tensorflow import keras\n",
    "from tensorflow.keras import layers\n",
    "\n",
    "print(tf.__version__)"
   ]
  },
  {
   "cell_type": "code",
   "execution_count": 18,
   "metadata": {},
   "outputs": [],
   "source": [
    "normalizer = tf.keras.layers.Normalization(axis=-1)"
   ]
  },
  {
   "cell_type": "code",
   "execution_count": 19,
   "metadata": {},
   "outputs": [
    {
     "name": "stderr",
     "output_type": "stream",
     "text": [
      "2022-08-16 21:43:51.184289: I tensorflow/core/common_runtime/pluggable_device/pluggable_device_factory.cc:305] Could not identify NUMA node of platform GPU ID 0, defaulting to 0. Your kernel may not have been built with NUMA support.\n",
      "2022-08-16 21:43:51.184901: I tensorflow/core/common_runtime/pluggable_device/pluggable_device_factory.cc:271] Created TensorFlow device (/job:localhost/replica:0/task:0/device:GPU:0 with 0 MB memory) -> physical PluggableDevice (device: 0, name: METAL, pci bus id: <undefined>)\n",
      "2022-08-16 21:43:51.257504: W tensorflow/core/platform/profile_utils/cpu_utils.cc:128] Failed to get CPU frequency: 0 Hz\n",
      "2022-08-16 21:43:51.343434: I tensorflow/core/grappler/optimizers/custom_graph_optimizer_registry.cc:113] Plugin optimizer for device_type GPU is enabled.\n",
      "2022-08-16 21:43:51.362330: I tensorflow/core/grappler/optimizers/custom_graph_optimizer_registry.cc:113] Plugin optimizer for device_type GPU is enabled.\n"
     ]
    },
    {
     "name": "stdout",
     "output_type": "stream",
     "text": [
      "Metal device set to: Apple M1\n",
      "\n",
      "systemMemory: 8.00 GB\n",
      "maxCacheSize: 2.67 GB\n",
      "\n"
     ]
    }
   ],
   "source": [
    "normalizer.adapt(np.array(X_train))"
   ]
  },
  {
   "cell_type": "code",
   "execution_count": 20,
   "metadata": {},
   "outputs": [
    {
     "name": "stdout",
     "output_type": "stream",
     "text": [
      "[[8.3453780e-01 8.9907875e+01 2.3337076e+00 9.0470383e+01 1.0362853e+01\n",
      "  8.1436910e-02 1.3377912e+01 4.8496421e-02 7.3487831e+01 5.8932744e-02\n",
      "  7.1591265e-02 1.3024281e-02 1.3954843e+03 7.5775566e+01 1.2124893e+02\n",
      "  9.3621910e+01 5.1542944e-01 9.3563988e+01 7.3489365e+01 9.4102150e+01\n",
      "  9.3762939e+01 6.3532410e+00 7.3481903e+01 6.9437431e+01 1.2051902e+01\n",
      "  9.9503426e+01 3.7356000e+00 6.7484421e+01 8.1604424e+01 1.3697575e+01\n",
      "  9.9000954e+01 1.4737397e-01 9.4044136e+01 4.8653993e-01 8.9510605e+01\n",
      "  1.9648938e-01 8.2173615e+01 9.8824127e+01 7.5698410e+01 1.6868229e+01\n",
      "  9.7702820e+01 6.9191002e+01 6.9524864e+01 4.9239060e-01 8.1948997e+01\n",
      "  7.5088120e+01 6.8133385e+01 1.9713658e-01 5.2659750e-02 7.3488167e+01\n",
      "  7.5714401e+01 6.9379066e+01 7.5349525e+01 8.8328859e-03 4.9407843e-01\n",
      "  2.9362285e-01 7.3483528e+01 8.1782692e+01 1.3942485e+01 9.5621614e+00\n",
      "  9.5538607e+00 9.0447083e+01 2.2746074e-01 8.2234940e+01 8.2269737e+01\n",
      "  2.8943139e-01 9.8303177e+01 8.9739311e+01 7.3492180e+01 2.0647563e-02\n",
      "  9.0310997e+01 9.9046112e+01 7.5189185e-01 1.1892020e+01 2.5145587e-01\n",
      "  1.2134373e+01 9.4043556e+01 1.3893662e+01 1.3505314e-01 3.7064353e-01\n",
      "  1.0793562e-01 2.6161093e-01 3.9321761e+00 7.5710838e+01 1.6176470e+01]]\n"
     ]
    }
   ],
   "source": [
    "print(normalizer.mean.numpy())"
   ]
  },
  {
   "cell_type": "code",
   "execution_count": 21,
   "metadata": {},
   "outputs": [
    {
     "name": "stdout",
     "output_type": "stream",
     "text": [
      "First example: [[   1.     88.94    3.     90.9     9.94    0.     14.76    1.     71.4\n",
      "     1.      0.      0.   1878.     74.34  151.     89.03    0.     96.21\n",
      "    73.87   94.07   93.06    6.92   81.07   67.74   20.42   99.59    1.27\n",
      "    35.09   86.69   18.74  100.      0.     94.11    1.     92.9     1.\n",
      "    77.67   95.3    76.41    7.28  100.     57.23   71.      0.     80.52\n",
      "    60.76   75.61    0.      0.     64.81   75.89   69.96   80.94    0.\n",
      "     0.      0.     74.89   72.76   12.93    9.      7.28   90.51    0.\n",
      "    82.94   82.35    1.     97.83   82.97   55.01    0.     87.6    96.66\n",
      "     1.      9.94    0.      7.48   92.3    13.6     0.      0.      0.\n",
      "     0.      5.     71.08   26.51]]\n",
      "\n",
      "Normalized: [[ 0.45 -0.56  0.56  0.51 -0.15 -0.3   0.55  4.43 -0.56  4.   -0.28 -0.11\n",
      "   0.24 -0.55  0.48 -2.83 -1.03  1.69  0.19 -0.07 -0.56  0.46  1.22 -0.56\n",
      "   2.38  0.23 -3.1  -3.39  1.4   2.86  1.1  -0.42  0.09  0.68  1.3   2.02\n",
      "  -2.65 -2.45  0.69 -1.78  1.57 -3.53  0.86 -0.98 -0.56 -3.21  1.03 -0.5\n",
      "  -0.24 -2.98  0.17  0.23  1.37 -0.09 -0.99 -0.64  0.77 -2.65 -0.79 -0.23\n",
      "  -0.56  0.09 -0.54  0.72  0.09  1.57 -0.51 -2.77 -2.89 -0.15 -2.45 -2.34\n",
      "   0.57 -0.76 -0.58 -1.27 -2.65 -0.21 -0.4  -0.77 -0.35 -0.6   0.4  -2.92\n",
      "   1.58]]\n"
     ]
    }
   ],
   "source": [
    "first = np.array(X_train[:1])\n",
    "\n",
    "with np.printoptions(precision=2, suppress=True):\n",
    "  print('First example:', first)\n",
    "  print()\n",
    "  print('Normalized:', normalizer(first).numpy())"
   ]
  },
  {
   "cell_type": "code",
   "execution_count": 63,
   "metadata": {},
   "outputs": [],
   "source": [
    "model = keras.Sequential([\n",
    "\n",
    "      layers.Dense(128, activation='relu'),\n",
    "      layers.Dense(128, activation='relu'),\n",
    "      layers.Dense(128, activation='relu'),\n",
    "      layers.Dense(64, activation='relu'),\n",
    "      layers.Dense(1)\n",
    "  ])"
   ]
  },
  {
   "cell_type": "code",
   "execution_count": 64,
   "metadata": {},
   "outputs": [],
   "source": [
    "from keras import backend as K\n",
    "\n",
    "def coeff_determination(y_true,y_pred):\n",
    "    SS_res =  K.sum(K.square( y_true-y_pred ))\n",
    "    SS_tot = K.sum(K.square( y_true - K.mean(y_true) ) )\n",
    "    return ( 1 - SS_res/(SS_tot + K.epsilon()) )"
   ]
  },
  {
   "cell_type": "code",
   "execution_count": 69,
   "metadata": {},
   "outputs": [],
   "source": [
    "model.compile(\n",
    "    optimizer='sgd',\n",
    "    loss='mse',\n",
    "    metrics=[tf.keras.metrics.MeanAbsoluteError()])"
   ]
  },
  {
   "cell_type": "code",
   "execution_count": 70,
   "metadata": {},
   "outputs": [
    {
     "name": "stdout",
     "output_type": "stream",
     "text": [
      "Epoch 1/100\n",
      "   1/1111 [..............................] - ETA: 6:32 - loss: 665.9285 - mean_absolute_error: 17.4882"
     ]
    },
    {
     "name": "stderr",
     "output_type": "stream",
     "text": [
      "2022-08-16 22:55:22.732072: I tensorflow/core/grappler/optimizers/custom_graph_optimizer_registry.cc:113] Plugin optimizer for device_type GPU is enabled.\n"
     ]
    },
    {
     "name": "stdout",
     "output_type": "stream",
     "text": [
      "1109/1111 [============================>.] - ETA: 0s - loss: nan - mean_absolute_error: nan"
     ]
    },
    {
     "name": "stderr",
     "output_type": "stream",
     "text": [
      "2022-08-16 22:55:28.285452: I tensorflow/core/grappler/optimizers/custom_graph_optimizer_registry.cc:113] Plugin optimizer for device_type GPU is enabled.\n"
     ]
    },
    {
     "name": "stdout",
     "output_type": "stream",
     "text": [
      "1111/1111 [==============================] - 6s 5ms/step - loss: nan - mean_absolute_error: nan - val_loss: nan - val_mean_absolute_error: nan\n",
      "Epoch 2/100\n",
      "1111/1111 [==============================] - 6s 5ms/step - loss: nan - mean_absolute_error: nan - val_loss: nan - val_mean_absolute_error: nan\n",
      "Epoch 3/100\n",
      "1111/1111 [==============================] - 6s 5ms/step - loss: nan - mean_absolute_error: nan - val_loss: nan - val_mean_absolute_error: nan\n",
      "Epoch 4/100\n",
      " 413/1111 [==========>...................] - ETA: 3s - loss: nan - mean_absolute_error: nan"
     ]
    },
    {
     "ename": "KeyboardInterrupt",
     "evalue": "",
     "output_type": "error",
     "traceback": [
      "\u001b[0;31m---------------------------------------------------------------------------\u001b[0m",
      "\u001b[0;31mKeyboardInterrupt\u001b[0m                         Traceback (most recent call last)",
      "File \u001b[0;32m<timed exec>:1\u001b[0m, in \u001b[0;36m<module>\u001b[0;34m\u001b[0m\n",
      "File \u001b[0;32m~/miniforge3/envs/mlp/lib/python3.9/site-packages/keras/utils/traceback_utils.py:64\u001b[0m, in \u001b[0;36mfilter_traceback.<locals>.error_handler\u001b[0;34m(*args, **kwargs)\u001b[0m\n\u001b[1;32m     62\u001b[0m filtered_tb \u001b[39m=\u001b[39m \u001b[39mNone\u001b[39;00m\n\u001b[1;32m     63\u001b[0m \u001b[39mtry\u001b[39;00m:\n\u001b[0;32m---> 64\u001b[0m   \u001b[39mreturn\u001b[39;00m fn(\u001b[39m*\u001b[39;49margs, \u001b[39m*\u001b[39;49m\u001b[39m*\u001b[39;49mkwargs)\n\u001b[1;32m     65\u001b[0m \u001b[39mexcept\u001b[39;00m \u001b[39mException\u001b[39;00m \u001b[39mas\u001b[39;00m e:  \u001b[39m# pylint: disable=broad-except\u001b[39;00m\n\u001b[1;32m     66\u001b[0m   filtered_tb \u001b[39m=\u001b[39m _process_traceback_frames(e\u001b[39m.\u001b[39m__traceback__)\n",
      "File \u001b[0;32m~/miniforge3/envs/mlp/lib/python3.9/site-packages/keras/engine/training.py:1409\u001b[0m, in \u001b[0;36mModel.fit\u001b[0;34m(self, x, y, batch_size, epochs, verbose, callbacks, validation_split, validation_data, shuffle, class_weight, sample_weight, initial_epoch, steps_per_epoch, validation_steps, validation_batch_size, validation_freq, max_queue_size, workers, use_multiprocessing)\u001b[0m\n\u001b[1;32m   1402\u001b[0m \u001b[39mwith\u001b[39;00m tf\u001b[39m.\u001b[39mprofiler\u001b[39m.\u001b[39mexperimental\u001b[39m.\u001b[39mTrace(\n\u001b[1;32m   1403\u001b[0m     \u001b[39m'\u001b[39m\u001b[39mtrain\u001b[39m\u001b[39m'\u001b[39m,\n\u001b[1;32m   1404\u001b[0m     epoch_num\u001b[39m=\u001b[39mepoch,\n\u001b[1;32m   1405\u001b[0m     step_num\u001b[39m=\u001b[39mstep,\n\u001b[1;32m   1406\u001b[0m     batch_size\u001b[39m=\u001b[39mbatch_size,\n\u001b[1;32m   1407\u001b[0m     _r\u001b[39m=\u001b[39m\u001b[39m1\u001b[39m):\n\u001b[1;32m   1408\u001b[0m   callbacks\u001b[39m.\u001b[39mon_train_batch_begin(step)\n\u001b[0;32m-> 1409\u001b[0m   tmp_logs \u001b[39m=\u001b[39m \u001b[39mself\u001b[39;49m\u001b[39m.\u001b[39;49mtrain_function(iterator)\n\u001b[1;32m   1410\u001b[0m   \u001b[39mif\u001b[39;00m data_handler\u001b[39m.\u001b[39mshould_sync:\n\u001b[1;32m   1411\u001b[0m     context\u001b[39m.\u001b[39masync_wait()\n",
      "File \u001b[0;32m~/miniforge3/envs/mlp/lib/python3.9/site-packages/tensorflow/python/util/traceback_utils.py:150\u001b[0m, in \u001b[0;36mfilter_traceback.<locals>.error_handler\u001b[0;34m(*args, **kwargs)\u001b[0m\n\u001b[1;32m    148\u001b[0m filtered_tb \u001b[39m=\u001b[39m \u001b[39mNone\u001b[39;00m\n\u001b[1;32m    149\u001b[0m \u001b[39mtry\u001b[39;00m:\n\u001b[0;32m--> 150\u001b[0m   \u001b[39mreturn\u001b[39;00m fn(\u001b[39m*\u001b[39;49margs, \u001b[39m*\u001b[39;49m\u001b[39m*\u001b[39;49mkwargs)\n\u001b[1;32m    151\u001b[0m \u001b[39mexcept\u001b[39;00m \u001b[39mException\u001b[39;00m \u001b[39mas\u001b[39;00m e:\n\u001b[1;32m    152\u001b[0m   filtered_tb \u001b[39m=\u001b[39m _process_traceback_frames(e\u001b[39m.\u001b[39m__traceback__)\n",
      "File \u001b[0;32m~/miniforge3/envs/mlp/lib/python3.9/site-packages/tensorflow/python/eager/def_function.py:915\u001b[0m, in \u001b[0;36mFunction.__call__\u001b[0;34m(self, *args, **kwds)\u001b[0m\n\u001b[1;32m    912\u001b[0m compiler \u001b[39m=\u001b[39m \u001b[39m\"\u001b[39m\u001b[39mxla\u001b[39m\u001b[39m\"\u001b[39m \u001b[39mif\u001b[39;00m \u001b[39mself\u001b[39m\u001b[39m.\u001b[39m_jit_compile \u001b[39melse\u001b[39;00m \u001b[39m\"\u001b[39m\u001b[39mnonXla\u001b[39m\u001b[39m\"\u001b[39m\n\u001b[1;32m    914\u001b[0m \u001b[39mwith\u001b[39;00m OptionalXlaContext(\u001b[39mself\u001b[39m\u001b[39m.\u001b[39m_jit_compile):\n\u001b[0;32m--> 915\u001b[0m   result \u001b[39m=\u001b[39m \u001b[39mself\u001b[39;49m\u001b[39m.\u001b[39;49m_call(\u001b[39m*\u001b[39;49margs, \u001b[39m*\u001b[39;49m\u001b[39m*\u001b[39;49mkwds)\n\u001b[1;32m    917\u001b[0m new_tracing_count \u001b[39m=\u001b[39m \u001b[39mself\u001b[39m\u001b[39m.\u001b[39mexperimental_get_tracing_count()\n\u001b[1;32m    918\u001b[0m without_tracing \u001b[39m=\u001b[39m (tracing_count \u001b[39m==\u001b[39m new_tracing_count)\n",
      "File \u001b[0;32m~/miniforge3/envs/mlp/lib/python3.9/site-packages/tensorflow/python/eager/def_function.py:947\u001b[0m, in \u001b[0;36mFunction._call\u001b[0;34m(self, *args, **kwds)\u001b[0m\n\u001b[1;32m    944\u001b[0m   \u001b[39mself\u001b[39m\u001b[39m.\u001b[39m_lock\u001b[39m.\u001b[39mrelease()\n\u001b[1;32m    945\u001b[0m   \u001b[39m# In this case we have created variables on the first call, so we run the\u001b[39;00m\n\u001b[1;32m    946\u001b[0m   \u001b[39m# defunned version which is guaranteed to never create variables.\u001b[39;00m\n\u001b[0;32m--> 947\u001b[0m   \u001b[39mreturn\u001b[39;00m \u001b[39mself\u001b[39;49m\u001b[39m.\u001b[39;49m_stateless_fn(\u001b[39m*\u001b[39;49margs, \u001b[39m*\u001b[39;49m\u001b[39m*\u001b[39;49mkwds)  \u001b[39m# pylint: disable=not-callable\u001b[39;00m\n\u001b[1;32m    948\u001b[0m \u001b[39melif\u001b[39;00m \u001b[39mself\u001b[39m\u001b[39m.\u001b[39m_stateful_fn \u001b[39mis\u001b[39;00m \u001b[39mnot\u001b[39;00m \u001b[39mNone\u001b[39;00m:\n\u001b[1;32m    949\u001b[0m   \u001b[39m# Release the lock early so that multiple threads can perform the call\u001b[39;00m\n\u001b[1;32m    950\u001b[0m   \u001b[39m# in parallel.\u001b[39;00m\n\u001b[1;32m    951\u001b[0m   \u001b[39mself\u001b[39m\u001b[39m.\u001b[39m_lock\u001b[39m.\u001b[39mrelease()\n",
      "File \u001b[0;32m~/miniforge3/envs/mlp/lib/python3.9/site-packages/tensorflow/python/eager/function.py:2453\u001b[0m, in \u001b[0;36mFunction.__call__\u001b[0;34m(self, *args, **kwargs)\u001b[0m\n\u001b[1;32m   2450\u001b[0m \u001b[39mwith\u001b[39;00m \u001b[39mself\u001b[39m\u001b[39m.\u001b[39m_lock:\n\u001b[1;32m   2451\u001b[0m   (graph_function,\n\u001b[1;32m   2452\u001b[0m    filtered_flat_args) \u001b[39m=\u001b[39m \u001b[39mself\u001b[39m\u001b[39m.\u001b[39m_maybe_define_function(args, kwargs)\n\u001b[0;32m-> 2453\u001b[0m \u001b[39mreturn\u001b[39;00m graph_function\u001b[39m.\u001b[39;49m_call_flat(\n\u001b[1;32m   2454\u001b[0m     filtered_flat_args, captured_inputs\u001b[39m=\u001b[39;49mgraph_function\u001b[39m.\u001b[39;49mcaptured_inputs)\n",
      "File \u001b[0;32m~/miniforge3/envs/mlp/lib/python3.9/site-packages/tensorflow/python/eager/function.py:1860\u001b[0m, in \u001b[0;36mConcreteFunction._call_flat\u001b[0;34m(self, args, captured_inputs, cancellation_manager)\u001b[0m\n\u001b[1;32m   1856\u001b[0m possible_gradient_type \u001b[39m=\u001b[39m gradients_util\u001b[39m.\u001b[39mPossibleTapeGradientTypes(args)\n\u001b[1;32m   1857\u001b[0m \u001b[39mif\u001b[39;00m (possible_gradient_type \u001b[39m==\u001b[39m gradients_util\u001b[39m.\u001b[39mPOSSIBLE_GRADIENT_TYPES_NONE\n\u001b[1;32m   1858\u001b[0m     \u001b[39mand\u001b[39;00m executing_eagerly):\n\u001b[1;32m   1859\u001b[0m   \u001b[39m# No tape is watching; skip to running the function.\u001b[39;00m\n\u001b[0;32m-> 1860\u001b[0m   \u001b[39mreturn\u001b[39;00m \u001b[39mself\u001b[39m\u001b[39m.\u001b[39m_build_call_outputs(\u001b[39mself\u001b[39;49m\u001b[39m.\u001b[39;49m_inference_function\u001b[39m.\u001b[39;49mcall(\n\u001b[1;32m   1861\u001b[0m       ctx, args, cancellation_manager\u001b[39m=\u001b[39;49mcancellation_manager))\n\u001b[1;32m   1862\u001b[0m forward_backward \u001b[39m=\u001b[39m \u001b[39mself\u001b[39m\u001b[39m.\u001b[39m_select_forward_and_backward_functions(\n\u001b[1;32m   1863\u001b[0m     args,\n\u001b[1;32m   1864\u001b[0m     possible_gradient_type,\n\u001b[1;32m   1865\u001b[0m     executing_eagerly)\n\u001b[1;32m   1866\u001b[0m forward_function, args_with_tangents \u001b[39m=\u001b[39m forward_backward\u001b[39m.\u001b[39mforward()\n",
      "File \u001b[0;32m~/miniforge3/envs/mlp/lib/python3.9/site-packages/tensorflow/python/eager/function.py:497\u001b[0m, in \u001b[0;36m_EagerDefinedFunction.call\u001b[0;34m(self, ctx, args, cancellation_manager)\u001b[0m\n\u001b[1;32m    495\u001b[0m \u001b[39mwith\u001b[39;00m _InterpolateFunctionError(\u001b[39mself\u001b[39m):\n\u001b[1;32m    496\u001b[0m   \u001b[39mif\u001b[39;00m cancellation_manager \u001b[39mis\u001b[39;00m \u001b[39mNone\u001b[39;00m:\n\u001b[0;32m--> 497\u001b[0m     outputs \u001b[39m=\u001b[39m execute\u001b[39m.\u001b[39;49mexecute(\n\u001b[1;32m    498\u001b[0m         \u001b[39mstr\u001b[39;49m(\u001b[39mself\u001b[39;49m\u001b[39m.\u001b[39;49msignature\u001b[39m.\u001b[39;49mname),\n\u001b[1;32m    499\u001b[0m         num_outputs\u001b[39m=\u001b[39;49m\u001b[39mself\u001b[39;49m\u001b[39m.\u001b[39;49m_num_outputs,\n\u001b[1;32m    500\u001b[0m         inputs\u001b[39m=\u001b[39;49margs,\n\u001b[1;32m    501\u001b[0m         attrs\u001b[39m=\u001b[39;49mattrs,\n\u001b[1;32m    502\u001b[0m         ctx\u001b[39m=\u001b[39;49mctx)\n\u001b[1;32m    503\u001b[0m   \u001b[39melse\u001b[39;00m:\n\u001b[1;32m    504\u001b[0m     outputs \u001b[39m=\u001b[39m execute\u001b[39m.\u001b[39mexecute_with_cancellation(\n\u001b[1;32m    505\u001b[0m         \u001b[39mstr\u001b[39m(\u001b[39mself\u001b[39m\u001b[39m.\u001b[39msignature\u001b[39m.\u001b[39mname),\n\u001b[1;32m    506\u001b[0m         num_outputs\u001b[39m=\u001b[39m\u001b[39mself\u001b[39m\u001b[39m.\u001b[39m_num_outputs,\n\u001b[0;32m   (...)\u001b[0m\n\u001b[1;32m    509\u001b[0m         ctx\u001b[39m=\u001b[39mctx,\n\u001b[1;32m    510\u001b[0m         cancellation_manager\u001b[39m=\u001b[39mcancellation_manager)\n",
      "File \u001b[0;32m~/miniforge3/envs/mlp/lib/python3.9/site-packages/tensorflow/python/eager/execute.py:54\u001b[0m, in \u001b[0;36mquick_execute\u001b[0;34m(op_name, num_outputs, inputs, attrs, ctx, name)\u001b[0m\n\u001b[1;32m     52\u001b[0m \u001b[39mtry\u001b[39;00m:\n\u001b[1;32m     53\u001b[0m   ctx\u001b[39m.\u001b[39mensure_initialized()\n\u001b[0;32m---> 54\u001b[0m   tensors \u001b[39m=\u001b[39m pywrap_tfe\u001b[39m.\u001b[39;49mTFE_Py_Execute(ctx\u001b[39m.\u001b[39;49m_handle, device_name, op_name,\n\u001b[1;32m     55\u001b[0m                                       inputs, attrs, num_outputs)\n\u001b[1;32m     56\u001b[0m \u001b[39mexcept\u001b[39;00m core\u001b[39m.\u001b[39m_NotOkStatusException \u001b[39mas\u001b[39;00m e:\n\u001b[1;32m     57\u001b[0m   \u001b[39mif\u001b[39;00m name \u001b[39mis\u001b[39;00m \u001b[39mnot\u001b[39;00m \u001b[39mNone\u001b[39;00m:\n",
      "\u001b[0;31mKeyboardInterrupt\u001b[0m: "
     ]
    }
   ],
   "source": [
    "%%time\n",
    "history = model.fit(\n",
    "    X_train,\n",
    "    y_train,\n",
    "    epochs=100,\n",
    "    # Suppress logging.\n",
    "    verbose=1,\n",
    "    # Calculate validation results on 20% of the training data.\n",
    "    validation_data=(X_test,y_test),)"
   ]
  },
  {
   "cell_type": "code",
   "execution_count": 84,
   "metadata": {},
   "outputs": [
    {
     "data": {
      "text/plain": [
       "['Property_Area',\n",
       " 'Number_of_Windows',\n",
       " 'Number_of_Doors',\n",
       " 'Frequency_of_Powercuts',\n",
       " 'Traffic_Density_Score',\n",
       " 'Air_Quality_Index',\n",
       " 'Neighborhood_Review',\n",
       " 'Habitability_score']"
      ]
     },
     "execution_count": 84,
     "metadata": {},
     "output_type": "execute_result"
    }
   ],
   "source": [
    "num_col"
   ]
  },
  {
   "cell_type": "code",
   "execution_count": 89,
   "metadata": {},
   "outputs": [],
   "source": [
    "from sklearn.preprocessing import PolynomialFeatures\n",
    "\n",
    "poly = PolynomialFeatures(degree=2)\n",
    "#num_cols_x = list(set(num_col) - {'Habitability_score'})\n",
    "poly_features=poly.fit_transform(X_train)\n"
   ]
  },
  {
   "cell_type": "code",
   "execution_count": 90,
   "metadata": {},
   "outputs": [
    {
     "data": {
      "text/plain": [
       "(35549, 3741)"
      ]
     },
     "execution_count": 90,
     "metadata": {},
     "output_type": "execute_result"
    }
   ],
   "source": [
    "poly_features.shape"
   ]
  },
  {
   "cell_type": "code",
   "execution_count": 88,
   "metadata": {},
   "outputs": [
    {
     "data": {
      "text/html": [
       "<div>\n",
       "<style scoped>\n",
       "    .dataframe tbody tr th:only-of-type {\n",
       "        vertical-align: middle;\n",
       "    }\n",
       "\n",
       "    .dataframe tbody tr th {\n",
       "        vertical-align: top;\n",
       "    }\n",
       "\n",
       "    .dataframe thead th {\n",
       "        text-align: right;\n",
       "    }\n",
       "</style>\n",
       "<table border=\"1\" class=\"dataframe\">\n",
       "  <thead>\n",
       "    <tr style=\"text-align: right;\">\n",
       "      <th></th>\n",
       "      <th>0</th>\n",
       "      <th>1</th>\n",
       "      <th>2</th>\n",
       "      <th>3</th>\n",
       "      <th>4</th>\n",
       "      <th>5</th>\n",
       "      <th>6</th>\n",
       "      <th>7</th>\n",
       "      <th>8</th>\n",
       "      <th>9</th>\n",
       "      <th>...</th>\n",
       "      <th>26</th>\n",
       "      <th>27</th>\n",
       "      <th>28</th>\n",
       "      <th>29</th>\n",
       "      <th>30</th>\n",
       "      <th>31</th>\n",
       "      <th>32</th>\n",
       "      <th>33</th>\n",
       "      <th>34</th>\n",
       "      <th>35</th>\n",
       "    </tr>\n",
       "  </thead>\n",
       "  <tbody>\n",
       "    <tr>\n",
       "      <th>0</th>\n",
       "      <td>1.0</td>\n",
       "      <td>3.0</td>\n",
       "      <td>1.0</td>\n",
       "      <td>1.27</td>\n",
       "      <td>1878.0</td>\n",
       "      <td>6.92</td>\n",
       "      <td>151.0</td>\n",
       "      <td>5.0</td>\n",
       "      <td>9.0</td>\n",
       "      <td>3.0</td>\n",
       "      <td>...</td>\n",
       "      <td>3526884.0</td>\n",
       "      <td>12995.76</td>\n",
       "      <td>283578.0</td>\n",
       "      <td>9390.0</td>\n",
       "      <td>47.8864</td>\n",
       "      <td>1044.92</td>\n",
       "      <td>34.60</td>\n",
       "      <td>22801.0</td>\n",
       "      <td>755.0</td>\n",
       "      <td>25.0</td>\n",
       "    </tr>\n",
       "    <tr>\n",
       "      <th>1</th>\n",
       "      <td>1.0</td>\n",
       "      <td>2.0</td>\n",
       "      <td>0.0</td>\n",
       "      <td>3.87</td>\n",
       "      <td>543.0</td>\n",
       "      <td>4.72</td>\n",
       "      <td>92.0</td>\n",
       "      <td>4.0</td>\n",
       "      <td>4.0</td>\n",
       "      <td>0.0</td>\n",
       "      <td>...</td>\n",
       "      <td>294849.0</td>\n",
       "      <td>2562.96</td>\n",
       "      <td>49956.0</td>\n",
       "      <td>2172.0</td>\n",
       "      <td>22.2784</td>\n",
       "      <td>434.24</td>\n",
       "      <td>18.88</td>\n",
       "      <td>8464.0</td>\n",
       "      <td>368.0</td>\n",
       "      <td>16.0</td>\n",
       "    </tr>\n",
       "    <tr>\n",
       "      <th>2</th>\n",
       "      <td>1.0</td>\n",
       "      <td>4.0</td>\n",
       "      <td>0.0</td>\n",
       "      <td>3.76</td>\n",
       "      <td>2263.0</td>\n",
       "      <td>7.27</td>\n",
       "      <td>166.0</td>\n",
       "      <td>3.0</td>\n",
       "      <td>16.0</td>\n",
       "      <td>0.0</td>\n",
       "      <td>...</td>\n",
       "      <td>5121169.0</td>\n",
       "      <td>16452.01</td>\n",
       "      <td>375658.0</td>\n",
       "      <td>6789.0</td>\n",
       "      <td>52.8529</td>\n",
       "      <td>1206.82</td>\n",
       "      <td>21.81</td>\n",
       "      <td>27556.0</td>\n",
       "      <td>498.0</td>\n",
       "      <td>9.0</td>\n",
       "    </tr>\n",
       "    <tr>\n",
       "      <th>3</th>\n",
       "      <td>1.0</td>\n",
       "      <td>2.0</td>\n",
       "      <td>1.0</td>\n",
       "      <td>3.37</td>\n",
       "      <td>325.0</td>\n",
       "      <td>2.96</td>\n",
       "      <td>47.0</td>\n",
       "      <td>3.0</td>\n",
       "      <td>4.0</td>\n",
       "      <td>2.0</td>\n",
       "      <td>...</td>\n",
       "      <td>105625.0</td>\n",
       "      <td>962.00</td>\n",
       "      <td>15275.0</td>\n",
       "      <td>975.0</td>\n",
       "      <td>8.7616</td>\n",
       "      <td>139.12</td>\n",
       "      <td>8.88</td>\n",
       "      <td>2209.0</td>\n",
       "      <td>141.0</td>\n",
       "      <td>9.0</td>\n",
       "    </tr>\n",
       "    <tr>\n",
       "      <th>4</th>\n",
       "      <td>1.0</td>\n",
       "      <td>3.0</td>\n",
       "      <td>0.0</td>\n",
       "      <td>4.73</td>\n",
       "      <td>719.0</td>\n",
       "      <td>7.20</td>\n",
       "      <td>141.0</td>\n",
       "      <td>4.0</td>\n",
       "      <td>9.0</td>\n",
       "      <td>0.0</td>\n",
       "      <td>...</td>\n",
       "      <td>516961.0</td>\n",
       "      <td>5176.80</td>\n",
       "      <td>101379.0</td>\n",
       "      <td>2876.0</td>\n",
       "      <td>51.8400</td>\n",
       "      <td>1015.20</td>\n",
       "      <td>28.80</td>\n",
       "      <td>19881.0</td>\n",
       "      <td>564.0</td>\n",
       "      <td>16.0</td>\n",
       "    </tr>\n",
       "    <tr>\n",
       "      <th>...</th>\n",
       "      <td>...</td>\n",
       "      <td>...</td>\n",
       "      <td>...</td>\n",
       "      <td>...</td>\n",
       "      <td>...</td>\n",
       "      <td>...</td>\n",
       "      <td>...</td>\n",
       "      <td>...</td>\n",
       "      <td>...</td>\n",
       "      <td>...</td>\n",
       "      <td>...</td>\n",
       "      <td>...</td>\n",
       "      <td>...</td>\n",
       "      <td>...</td>\n",
       "      <td>...</td>\n",
       "      <td>...</td>\n",
       "      <td>...</td>\n",
       "      <td>...</td>\n",
       "      <td>...</td>\n",
       "      <td>...</td>\n",
       "      <td>...</td>\n",
       "    </tr>\n",
       "    <tr>\n",
       "      <th>35544</th>\n",
       "      <td>1.0</td>\n",
       "      <td>2.0</td>\n",
       "      <td>1.0</td>\n",
       "      <td>4.17</td>\n",
       "      <td>888.0</td>\n",
       "      <td>7.92</td>\n",
       "      <td>83.0</td>\n",
       "      <td>7.0</td>\n",
       "      <td>4.0</td>\n",
       "      <td>2.0</td>\n",
       "      <td>...</td>\n",
       "      <td>788544.0</td>\n",
       "      <td>7032.96</td>\n",
       "      <td>73704.0</td>\n",
       "      <td>6216.0</td>\n",
       "      <td>62.7264</td>\n",
       "      <td>657.36</td>\n",
       "      <td>55.44</td>\n",
       "      <td>6889.0</td>\n",
       "      <td>581.0</td>\n",
       "      <td>49.0</td>\n",
       "    </tr>\n",
       "    <tr>\n",
       "      <th>35545</th>\n",
       "      <td>1.0</td>\n",
       "      <td>3.0</td>\n",
       "      <td>0.0</td>\n",
       "      <td>3.83</td>\n",
       "      <td>173.0</td>\n",
       "      <td>5.33</td>\n",
       "      <td>531.0</td>\n",
       "      <td>1.0</td>\n",
       "      <td>9.0</td>\n",
       "      <td>0.0</td>\n",
       "      <td>...</td>\n",
       "      <td>29929.0</td>\n",
       "      <td>922.09</td>\n",
       "      <td>91863.0</td>\n",
       "      <td>173.0</td>\n",
       "      <td>28.4089</td>\n",
       "      <td>2830.23</td>\n",
       "      <td>5.33</td>\n",
       "      <td>281961.0</td>\n",
       "      <td>531.0</td>\n",
       "      <td>1.0</td>\n",
       "    </tr>\n",
       "    <tr>\n",
       "      <th>35546</th>\n",
       "      <td>1.0</td>\n",
       "      <td>1.0</td>\n",
       "      <td>0.0</td>\n",
       "      <td>4.15</td>\n",
       "      <td>660.0</td>\n",
       "      <td>7.39</td>\n",
       "      <td>101.0</td>\n",
       "      <td>4.0</td>\n",
       "      <td>1.0</td>\n",
       "      <td>0.0</td>\n",
       "      <td>...</td>\n",
       "      <td>435600.0</td>\n",
       "      <td>4877.40</td>\n",
       "      <td>66660.0</td>\n",
       "      <td>2640.0</td>\n",
       "      <td>54.6121</td>\n",
       "      <td>746.39</td>\n",
       "      <td>29.56</td>\n",
       "      <td>10201.0</td>\n",
       "      <td>404.0</td>\n",
       "      <td>16.0</td>\n",
       "    </tr>\n",
       "    <tr>\n",
       "      <th>35547</th>\n",
       "      <td>1.0</td>\n",
       "      <td>3.0</td>\n",
       "      <td>1.0</td>\n",
       "      <td>4.15</td>\n",
       "      <td>899.0</td>\n",
       "      <td>7.61</td>\n",
       "      <td>102.0</td>\n",
       "      <td>2.0</td>\n",
       "      <td>9.0</td>\n",
       "      <td>3.0</td>\n",
       "      <td>...</td>\n",
       "      <td>808201.0</td>\n",
       "      <td>6841.39</td>\n",
       "      <td>91698.0</td>\n",
       "      <td>1798.0</td>\n",
       "      <td>57.9121</td>\n",
       "      <td>776.22</td>\n",
       "      <td>15.22</td>\n",
       "      <td>10404.0</td>\n",
       "      <td>204.0</td>\n",
       "      <td>4.0</td>\n",
       "    </tr>\n",
       "    <tr>\n",
       "      <th>35548</th>\n",
       "      <td>1.0</td>\n",
       "      <td>2.0</td>\n",
       "      <td>0.0</td>\n",
       "      <td>2.91</td>\n",
       "      <td>2202.0</td>\n",
       "      <td>6.68</td>\n",
       "      <td>94.0</td>\n",
       "      <td>5.0</td>\n",
       "      <td>4.0</td>\n",
       "      <td>0.0</td>\n",
       "      <td>...</td>\n",
       "      <td>4848804.0</td>\n",
       "      <td>14709.36</td>\n",
       "      <td>206988.0</td>\n",
       "      <td>11010.0</td>\n",
       "      <td>44.6224</td>\n",
       "      <td>627.92</td>\n",
       "      <td>33.40</td>\n",
       "      <td>8836.0</td>\n",
       "      <td>470.0</td>\n",
       "      <td>25.0</td>\n",
       "    </tr>\n",
       "  </tbody>\n",
       "</table>\n",
       "<p>35549 rows × 36 columns</p>\n",
       "</div>"
      ],
      "text/plain": [
       "        0    1    2     3       4     5      6    7     8    9   ...  \\\n",
       "0      1.0  3.0  1.0  1.27  1878.0  6.92  151.0  5.0   9.0  3.0  ...   \n",
       "1      1.0  2.0  0.0  3.87   543.0  4.72   92.0  4.0   4.0  0.0  ...   \n",
       "2      1.0  4.0  0.0  3.76  2263.0  7.27  166.0  3.0  16.0  0.0  ...   \n",
       "3      1.0  2.0  1.0  3.37   325.0  2.96   47.0  3.0   4.0  2.0  ...   \n",
       "4      1.0  3.0  0.0  4.73   719.0  7.20  141.0  4.0   9.0  0.0  ...   \n",
       "...    ...  ...  ...   ...     ...   ...    ...  ...   ...  ...  ...   \n",
       "35544  1.0  2.0  1.0  4.17   888.0  7.92   83.0  7.0   4.0  2.0  ...   \n",
       "35545  1.0  3.0  0.0  3.83   173.0  5.33  531.0  1.0   9.0  0.0  ...   \n",
       "35546  1.0  1.0  0.0  4.15   660.0  7.39  101.0  4.0   1.0  0.0  ...   \n",
       "35547  1.0  3.0  1.0  4.15   899.0  7.61  102.0  2.0   9.0  3.0  ...   \n",
       "35548  1.0  2.0  0.0  2.91  2202.0  6.68   94.0  5.0   4.0  0.0  ...   \n",
       "\n",
       "              26        27        28       29       30       31     32  \\\n",
       "0      3526884.0  12995.76  283578.0   9390.0  47.8864  1044.92  34.60   \n",
       "1       294849.0   2562.96   49956.0   2172.0  22.2784   434.24  18.88   \n",
       "2      5121169.0  16452.01  375658.0   6789.0  52.8529  1206.82  21.81   \n",
       "3       105625.0    962.00   15275.0    975.0   8.7616   139.12   8.88   \n",
       "4       516961.0   5176.80  101379.0   2876.0  51.8400  1015.20  28.80   \n",
       "...          ...       ...       ...      ...      ...      ...    ...   \n",
       "35544   788544.0   7032.96   73704.0   6216.0  62.7264   657.36  55.44   \n",
       "35545    29929.0    922.09   91863.0    173.0  28.4089  2830.23   5.33   \n",
       "35546   435600.0   4877.40   66660.0   2640.0  54.6121   746.39  29.56   \n",
       "35547   808201.0   6841.39   91698.0   1798.0  57.9121   776.22  15.22   \n",
       "35548  4848804.0  14709.36  206988.0  11010.0  44.6224   627.92  33.40   \n",
       "\n",
       "             33     34    35  \n",
       "0       22801.0  755.0  25.0  \n",
       "1        8464.0  368.0  16.0  \n",
       "2       27556.0  498.0   9.0  \n",
       "3        2209.0  141.0   9.0  \n",
       "4       19881.0  564.0  16.0  \n",
       "...         ...    ...   ...  \n",
       "35544    6889.0  581.0  49.0  \n",
       "35545  281961.0  531.0   1.0  \n",
       "35546   10201.0  404.0  16.0  \n",
       "35547   10404.0  204.0   4.0  \n",
       "35548    8836.0  470.0  25.0  \n",
       "\n",
       "[35549 rows x 36 columns]"
      ]
     },
     "execution_count": 88,
     "metadata": {},
     "output_type": "execute_result"
    }
   ],
   "source": [
    "train"
   ]
  },
  {
   "cell_type": "code",
   "execution_count": 91,
   "metadata": {},
   "outputs": [
    {
     "data": {
      "text/html": [
       "<style>#sk-container-id-2 {color: black;background-color: white;}#sk-container-id-2 pre{padding: 0;}#sk-container-id-2 div.sk-toggleable {background-color: white;}#sk-container-id-2 label.sk-toggleable__label {cursor: pointer;display: block;width: 100%;margin-bottom: 0;padding: 0.3em;box-sizing: border-box;text-align: center;}#sk-container-id-2 label.sk-toggleable__label-arrow:before {content: \"▸\";float: left;margin-right: 0.25em;color: #696969;}#sk-container-id-2 label.sk-toggleable__label-arrow:hover:before {color: black;}#sk-container-id-2 div.sk-estimator:hover label.sk-toggleable__label-arrow:before {color: black;}#sk-container-id-2 div.sk-toggleable__content {max-height: 0;max-width: 0;overflow: hidden;text-align: left;background-color: #f0f8ff;}#sk-container-id-2 div.sk-toggleable__content pre {margin: 0.2em;color: black;border-radius: 0.25em;background-color: #f0f8ff;}#sk-container-id-2 input.sk-toggleable__control:checked~div.sk-toggleable__content {max-height: 200px;max-width: 100%;overflow: auto;}#sk-container-id-2 input.sk-toggleable__control:checked~label.sk-toggleable__label-arrow:before {content: \"▾\";}#sk-container-id-2 div.sk-estimator input.sk-toggleable__control:checked~label.sk-toggleable__label {background-color: #d4ebff;}#sk-container-id-2 div.sk-label input.sk-toggleable__control:checked~label.sk-toggleable__label {background-color: #d4ebff;}#sk-container-id-2 input.sk-hidden--visually {border: 0;clip: rect(1px 1px 1px 1px);clip: rect(1px, 1px, 1px, 1px);height: 1px;margin: -1px;overflow: hidden;padding: 0;position: absolute;width: 1px;}#sk-container-id-2 div.sk-estimator {font-family: monospace;background-color: #f0f8ff;border: 1px dotted black;border-radius: 0.25em;box-sizing: border-box;margin-bottom: 0.5em;}#sk-container-id-2 div.sk-estimator:hover {background-color: #d4ebff;}#sk-container-id-2 div.sk-parallel-item::after {content: \"\";width: 100%;border-bottom: 1px solid gray;flex-grow: 1;}#sk-container-id-2 div.sk-label:hover label.sk-toggleable__label {background-color: #d4ebff;}#sk-container-id-2 div.sk-serial::before {content: \"\";position: absolute;border-left: 1px solid gray;box-sizing: border-box;top: 0;bottom: 0;left: 50%;z-index: 0;}#sk-container-id-2 div.sk-serial {display: flex;flex-direction: column;align-items: center;background-color: white;padding-right: 0.2em;padding-left: 0.2em;position: relative;}#sk-container-id-2 div.sk-item {position: relative;z-index: 1;}#sk-container-id-2 div.sk-parallel {display: flex;align-items: stretch;justify-content: center;background-color: white;position: relative;}#sk-container-id-2 div.sk-item::before, #sk-container-id-2 div.sk-parallel-item::before {content: \"\";position: absolute;border-left: 1px solid gray;box-sizing: border-box;top: 0;bottom: 0;left: 50%;z-index: -1;}#sk-container-id-2 div.sk-parallel-item {display: flex;flex-direction: column;z-index: 1;position: relative;background-color: white;}#sk-container-id-2 div.sk-parallel-item:first-child::after {align-self: flex-end;width: 50%;}#sk-container-id-2 div.sk-parallel-item:last-child::after {align-self: flex-start;width: 50%;}#sk-container-id-2 div.sk-parallel-item:only-child::after {width: 0;}#sk-container-id-2 div.sk-dashed-wrapped {border: 1px dashed gray;margin: 0 0.4em 0.5em 0.4em;box-sizing: border-box;padding-bottom: 0.4em;background-color: white;}#sk-container-id-2 div.sk-label label {font-family: monospace;font-weight: bold;display: inline-block;line-height: 1.2em;}#sk-container-id-2 div.sk-label-container {text-align: center;}#sk-container-id-2 div.sk-container {/* jupyter's `normalize.less` sets `[hidden] { display: none; }` but bootstrap.min.css set `[hidden] { display: none !important; }` so we also need the `!important` here to be able to override the default hidden behavior on the sphinx rendered scikit-learn.org. See: https://github.com/scikit-learn/scikit-learn/issues/21755 */display: inline-block !important;position: relative;}#sk-container-id-2 div.sk-text-repr-fallback {display: none;}</style><div id=\"sk-container-id-2\" class=\"sk-top-container\"><div class=\"sk-text-repr-fallback\"><pre>RANSACRegressor(estimator=LinearRegression(), loss=&#x27;absolute_loss&#x27;,\n",
       "                max_trials=4, min_samples=2, residual_threshold=10)</pre><b>In a Jupyter environment, please rerun this cell to show the HTML representation or trust the notebook. <br />On GitHub, the HTML representation is unable to render, please try loading this page with nbviewer.org.</b></div><div class=\"sk-container\" hidden><div class=\"sk-item sk-dashed-wrapped\"><div class=\"sk-label-container\"><div class=\"sk-label sk-toggleable\"><input class=\"sk-toggleable__control sk-hidden--visually\" id=\"sk-estimator-id-2\" type=\"checkbox\" ><label for=\"sk-estimator-id-2\" class=\"sk-toggleable__label sk-toggleable__label-arrow\">RANSACRegressor</label><div class=\"sk-toggleable__content\"><pre>RANSACRegressor(estimator=LinearRegression(), loss=&#x27;absolute_loss&#x27;,\n",
       "                max_trials=4, min_samples=2, residual_threshold=10)</pre></div></div></div><div class=\"sk-parallel\"><div class=\"sk-parallel-item\"><div class=\"sk-item\"><div class=\"sk-label-container\"><div class=\"sk-label sk-toggleable\"><input class=\"sk-toggleable__control sk-hidden--visually\" id=\"sk-estimator-id-3\" type=\"checkbox\" ><label for=\"sk-estimator-id-3\" class=\"sk-toggleable__label sk-toggleable__label-arrow\">estimator: LinearRegression</label><div class=\"sk-toggleable__content\"><pre>LinearRegression()</pre></div></div></div><div class=\"sk-serial\"><div class=\"sk-item\"><div class=\"sk-estimator sk-toggleable\"><input class=\"sk-toggleable__control sk-hidden--visually\" id=\"sk-estimator-id-4\" type=\"checkbox\" ><label for=\"sk-estimator-id-4\" class=\"sk-toggleable__label sk-toggleable__label-arrow\">LinearRegression</label><div class=\"sk-toggleable__content\"><pre>LinearRegression()</pre></div></div></div></div></div></div></div></div></div></div>"
      ],
      "text/plain": [
       "RANSACRegressor(estimator=LinearRegression(), loss='absolute_loss',\n",
       "                max_trials=4, min_samples=2, residual_threshold=10)"
      ]
     },
     "execution_count": 91,
     "metadata": {},
     "output_type": "execute_result"
    }
   ],
   "source": [
    "from sklearn.linear_model import LinearRegression\n",
    "from sklearn.linear_model import RANSACRegressor\n",
    "\n",
    "# Set RANSAC hyperparameters\n",
    "ransac = RANSACRegressor(LinearRegression(),\n",
    "\t\tmax_trials=4, \t\t# Number of Iterations\n",
    "\t\tmin_samples=2, \t\t# Minimum size of the sample\n",
    "\t\tloss='absolute_loss', \t# Metrics for loss\n",
    "\t\tresidual_threshold=10 \t# Threshold\n",
    "\t\t)\n",
    "\n",
    "# Train model\n",
    "ransac.fit(X_train, y_train)"
   ]
  },
  {
   "cell_type": "code",
   "execution_count": 92,
   "metadata": {},
   "outputs": [],
   "source": [
    "y_pred = ransac.predict(X_test)"
   ]
  },
  {
   "cell_type": "code",
   "execution_count": 94,
   "metadata": {},
   "outputs": [
    {
     "data": {
      "text/plain": [
       "0.5572349231156636"
      ]
     },
     "execution_count": 94,
     "metadata": {},
     "output_type": "execute_result"
    }
   ],
   "source": [
    "r2_score(y_test,y_pred)"
   ]
  },
  {
   "cell_type": "code",
   "execution_count": 16,
   "metadata": {},
   "outputs": [
    {
     "name": "stdout",
     "output_type": "stream",
     "text": [
      "MSE by cross validation of polynomial regression:-0.5630866447335372\n"
     ]
    }
   ],
   "source": [
    "\n",
    "from sklearn.pipeline import Pipeline\n",
    "from sklearn.preprocessing import PolynomialFeatures\n",
    "from sklearn.linear_model import LinearRegression\n",
    "from sklearn.model_selection import cross_val_score\n",
    "\n",
    "for i in range(1,20,1):\n",
    "    polynomial_features = PolynomialFeatures(degree=i)\n",
    "    linear_regression = LinearRegression()\n",
    "    pipeline = Pipeline([(\"polynomial_features\", polynomial_features),\n",
    "                            (\"linear_regression\", linear_regression)])\n",
    "\n",
    "    #Execution of the cross validation with the mean square error as a scoring parameter\n",
    "    scores=cross_val_score(pipeline, X, y, cv=30, scoring='r2')\n",
    "    \n",
    "    #To get the mean square error, the 'scores' list needs to be negated\n",
    "    mse_scores=-scores\n",
    "    \n",
    "    # The cross-validation evaluates the created models after each run. \n",
    "    # In order to obtain a representative evaluation of the regression method, the mean value is formed over the score values\n",
    "    cross_validation_score_mse=mse_scores.mean()\n",
    "    \n",
    "    #Output of the mean square error\n",
    "    print(\"MSE by cross validation of polynomial regression:\"+str(cross_validation_score_mse))"
   ]
  },
  {
   "cell_type": "code",
   "execution_count": null,
   "metadata": {},
   "outputs": [],
   "source": []
  }
 ],
 "metadata": {
  "kernelspec": {
   "display_name": "Python 3.9.13 ('mlp')",
   "language": "python",
   "name": "python3"
  },
  "language_info": {
   "codemirror_mode": {
    "name": "ipython",
    "version": 3
   },
   "file_extension": ".py",
   "mimetype": "text/x-python",
   "name": "python",
   "nbconvert_exporter": "python",
   "pygments_lexer": "ipython3",
   "version": "3.9.13"
  },
  "orig_nbformat": 4,
  "vscode": {
   "interpreter": {
    "hash": "58c57580589078ed5a87d7fac8c203e6b13f6c0d4d24cdd61e382dbc98fdf7d5"
   }
  }
 },
 "nbformat": 4,
 "nbformat_minor": 2
}
